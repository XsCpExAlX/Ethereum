{
 "cells": [
  {
   "cell_type": "code",
   "execution_count": 2,
   "metadata": {
    "collapsed": true
   },
   "outputs": [],
   "source": [
    "import numpy as np\n",
    "import pandas as pd\n",
    "import datetime as dt\n",
    "import matplotlib.pyplot as plt\n",
    "pd.options.mode.chained_assignment = None"
   ]
  },
  {
   "cell_type": "markdown",
   "metadata": {},
   "source": [
    "## The model in theory\n",
    "\n",
    "We are going to use 4 features: The **price** itself and three extra technical indicators.\n",
    "- MACD (Trend)\n",
    "- Stochastics (Momentum)\n",
    "- Average True Range (Volume)"
   ]
  },
  {
   "cell_type": "markdown",
   "metadata": {},
   "source": [
    "## Functions\n",
    "\n",
    "**Exponential Moving Average:** Is a type of infinite impulse response filter that applies weighting factors which decrease exponentially. The weighting for each older datum decreases exponentially, never reaching zero. \n",
    "<img src=\"https://www.bionicturtle.com/images/uploads/WindowsLiveWriterGARCHapproachandExponentialsmoothingEWMA_863image_16.png\">\n",
    "\n",
    "**MACD:**  The Moving Average Convergence/Divergence oscillator (MACD) is one of the simplest and most effective momentum indicators available. The MACD turns two trend-following indicators, moving averages, into a momentum oscillator by subtracting the longer moving average from the shorter moving average.\n",
    "<img src=\"http://i68.tinypic.com/289ie1l.png\">\n",
    "\n",
    "**Stochastics oscillator:** The Stochastic Oscillator is a momentum indicator that shows the location of the close relative to the high-low range over a set number of periods.\n",
    "\n",
    "<img src=\"http://i66.tinypic.com/2vam3uo.png\">\n",
    "\n",
    "**Average True Range:** Is an indicator to measure the volalitility (NOT price direction). The largest of:\n",
    "- Method A: Current High less the current Low\n",
    "- Method B: Current High less the previous Close (absolute value)\n",
    "- Method C: Current Low less the previous Close (absolute value)\n",
    "\n",
    "<img src=\"http://d.stockcharts.com/school/data/media/chart_school/technical_indicators_and_overlays/average_true_range_atr/atr-1-trexam.png\" width=\"400px\">\n",
    "\n",
    "Calculation:\n",
    "<img src=\"http://i68.tinypic.com/e0kggi.png\">"
   ]
  },
  {
   "cell_type": "code",
   "execution_count": 3,
   "metadata": {
    "collapsed": true
   },
   "outputs": [],
   "source": [
    "def MACD(df,period1,period2,periodSignal):\n",
    "    EMA1 = pd.DataFrame.ewm(df,span=period1).mean()\n",
    "    EMA2 = pd.DataFrame.ewm(df,span=period2).mean()\n",
    "    MACD = EMA1-EMA2\n",
    "    \n",
    "    Signal = pd.DataFrame.ewm(MACD,periodSignal).mean()\n",
    "    \n",
    "    Histogram = MACD-Signal\n",
    "    \n",
    "    return Histogram\n",
    "\n",
    "def stochastics_oscillator(df,period):\n",
    "    l, h = pd.DataFrame.rolling(df, period).min(), pd.DataFrame.rolling(df, period).max()\n",
    "    k = 100 * (df - l) / (h - l)\n",
    "    return k\n",
    "\n",
    "def ATR(df,period):\n",
    "    '''\n",
    "    Method A: Current High less the current Low\n",
    "    '''\n",
    "    df['H-L'] = abs(df['High']-df['Low'])\n",
    "    df['H-PC'] = abs(df['High']-df['Price'].shift(1))\n",
    "    df['L-PC'] = abs(df['Low']-df['Price'].shift(1))\n",
    "    TR = df[['H-L','H-PC','L-PC']].max(axis=1)\n",
    "    return TR.to_frame()"
   ]
  },
  {
   "cell_type": "markdown",
   "metadata": {},
   "source": [
    "## Read data"
   ]
  },
  {
   "cell_type": "code",
   "execution_count": 4,
   "metadata": {},
   "outputs": [],
   "source": [
    "df = pd.read_csv('ETHUSD2.csv', nrows=1000000)\n",
    "\n",
    "\n",
    "#dfPrices = pd.read_csv('ETHUSD.csv', delimiter=',',usecols=[1])\n",
    "#dfPrices = dfPrices.iloc[::-1]\n",
    "#dfPrices[\"Price\"] = (dfPrices[\"Price\"].apply(lambda x: float(x[0].replace(',', '')))"
   ]
  },
  {
   "cell_type": "code",
   "execution_count": 5,
   "metadata": {
    "collapsed": true
   },
   "outputs": [],
   "source": [
    "#Separate trade price and calculate mid market price\n",
    "df.rename(columns={\"trade_px\": \"TradePrice\"}, inplace=True)\n",
    "dfPrices= pd.DataFrame()\n",
    "dfPrices[\"Price\"] = df[[\"b1\", \"a1\"]].mean(axis=1)\n",
    "date_time=pd.to_datetime(df.order_date_time).to_frame()\n"
   ]
  },
  {
   "cell_type": "code",
   "execution_count": 6,
   "metadata": {},
   "outputs": [
    {
     "data": {
      "text/html": [
       "<div>\n",
       "<style>\n",
       "    .dataframe thead tr:only-child th {\n",
       "        text-align: right;\n",
       "    }\n",
       "\n",
       "    .dataframe thead th {\n",
       "        text-align: left;\n",
       "    }\n",
       "\n",
       "    .dataframe tbody tr th {\n",
       "        vertical-align: top;\n",
       "    }\n",
       "</style>\n",
       "<table border=\"1\" class=\"dataframe\">\n",
       "  <thead>\n",
       "    <tr style=\"text-align: right;\">\n",
       "      <th></th>\n",
       "      <th>Price</th>\n",
       "    </tr>\n",
       "  </thead>\n",
       "  <tbody>\n",
       "    <tr>\n",
       "      <th>548723</th>\n",
       "      <td>288.305</td>\n",
       "    </tr>\n",
       "    <tr>\n",
       "      <th>548724</th>\n",
       "      <td>288.305</td>\n",
       "    </tr>\n",
       "  </tbody>\n",
       "</table>\n",
       "</div>"
      ],
      "text/plain": [
       "          Price\n",
       "548723  288.305\n",
       "548724  288.305"
      ]
     },
     "execution_count": 6,
     "metadata": {},
     "output_type": "execute_result"
    }
   ],
   "source": [
    "#dfPrices[:-2]\n",
    "dfPrices.tail(2)"
   ]
  },
  {
   "cell_type": "code",
   "execution_count": 7,
   "metadata": {},
   "outputs": [
    {
     "data": {
      "text/html": [
       "<div>\n",
       "<style>\n",
       "    .dataframe thead tr:only-child th {\n",
       "        text-align: right;\n",
       "    }\n",
       "\n",
       "    .dataframe thead th {\n",
       "        text-align: left;\n",
       "    }\n",
       "\n",
       "    .dataframe tbody tr th {\n",
       "        vertical-align: top;\n",
       "    }\n",
       "</style>\n",
       "<table border=\"1\" class=\"dataframe\">\n",
       "  <thead>\n",
       "    <tr style=\"text-align: right;\">\n",
       "      <th></th>\n",
       "      <th>Price</th>\n",
       "    </tr>\n",
       "  </thead>\n",
       "  <tbody>\n",
       "    <tr>\n",
       "      <th>0</th>\n",
       "      <td>290.780</td>\n",
       "    </tr>\n",
       "    <tr>\n",
       "      <th>1</th>\n",
       "      <td>290.785</td>\n",
       "    </tr>\n",
       "  </tbody>\n",
       "</table>\n",
       "</div>"
      ],
      "text/plain": [
       "     Price\n",
       "0  290.780\n",
       "1  290.785"
      ]
     },
     "execution_count": 7,
     "metadata": {},
     "output_type": "execute_result"
    }
   ],
   "source": [
    "dfPrices.head(2)"
   ]
  },
  {
   "cell_type": "code",
   "execution_count": 8,
   "metadata": {},
   "outputs": [
    {
     "data": {
      "text/html": [
       "<div>\n",
       "<style>\n",
       "    .dataframe thead tr:only-child th {\n",
       "        text-align: right;\n",
       "    }\n",
       "\n",
       "    .dataframe thead th {\n",
       "        text-align: left;\n",
       "    }\n",
       "\n",
       "    .dataframe tbody tr th {\n",
       "        vertical-align: top;\n",
       "    }\n",
       "</style>\n",
       "<table border=\"1\" class=\"dataframe\">\n",
       "  <thead>\n",
       "    <tr style=\"text-align: right;\">\n",
       "      <th></th>\n",
       "      <th>order_date_time</th>\n",
       "    </tr>\n",
       "  </thead>\n",
       "  <tbody>\n",
       "    <tr>\n",
       "      <th>548720</th>\n",
       "      <td>2017-09-19 15:06:43.041518</td>\n",
       "    </tr>\n",
       "    <tr>\n",
       "      <th>548721</th>\n",
       "      <td>2017-09-19 15:06:43.041518</td>\n",
       "    </tr>\n",
       "    <tr>\n",
       "      <th>548722</th>\n",
       "      <td>2017-09-19 15:06:43.041518</td>\n",
       "    </tr>\n",
       "    <tr>\n",
       "      <th>548723</th>\n",
       "      <td>2017-09-19 15:06:43.041518</td>\n",
       "    </tr>\n",
       "    <tr>\n",
       "      <th>548724</th>\n",
       "      <td>2017-09-19 15:06:43.041518</td>\n",
       "    </tr>\n",
       "  </tbody>\n",
       "</table>\n",
       "</div>"
      ],
      "text/plain": [
       "                  order_date_time\n",
       "548720 2017-09-19 15:06:43.041518\n",
       "548721 2017-09-19 15:06:43.041518\n",
       "548722 2017-09-19 15:06:43.041518\n",
       "548723 2017-09-19 15:06:43.041518\n",
       "548724 2017-09-19 15:06:43.041518"
      ]
     },
     "execution_count": 8,
     "metadata": {},
     "output_type": "execute_result"
    }
   ],
   "source": [
    "date_time.tail()"
   ]
  },
  {
   "cell_type": "code",
   "execution_count": 9,
   "metadata": {},
   "outputs": [
    {
     "data": {
      "text/html": [
       "<div>\n",
       "<style>\n",
       "    .dataframe thead tr:only-child th {\n",
       "        text-align: right;\n",
       "    }\n",
       "\n",
       "    .dataframe thead th {\n",
       "        text-align: left;\n",
       "    }\n",
       "\n",
       "    .dataframe tbody tr th {\n",
       "        vertical-align: top;\n",
       "    }\n",
       "</style>\n",
       "<table border=\"1\" class=\"dataframe\">\n",
       "  <thead>\n",
       "    <tr style=\"text-align: right;\">\n",
       "      <th></th>\n",
       "      <th>Date_Time</th>\n",
       "      <th>ETHUSD</th>\n",
       "    </tr>\n",
       "  </thead>\n",
       "  <tbody>\n",
       "    <tr>\n",
       "      <th>548720</th>\n",
       "      <td>2017-09-19 15:06:43.041518</td>\n",
       "      <td>288.305</td>\n",
       "    </tr>\n",
       "    <tr>\n",
       "      <th>548721</th>\n",
       "      <td>2017-09-19 15:06:43.041518</td>\n",
       "      <td>288.305</td>\n",
       "    </tr>\n",
       "    <tr>\n",
       "      <th>548722</th>\n",
       "      <td>2017-09-19 15:06:43.041518</td>\n",
       "      <td>288.305</td>\n",
       "    </tr>\n",
       "    <tr>\n",
       "      <th>548723</th>\n",
       "      <td>2017-09-19 15:06:43.041518</td>\n",
       "      <td>288.305</td>\n",
       "    </tr>\n",
       "    <tr>\n",
       "      <th>548724</th>\n",
       "      <td>2017-09-19 15:06:43.041518</td>\n",
       "      <td>288.305</td>\n",
       "    </tr>\n",
       "  </tbody>\n",
       "</table>\n",
       "</div>"
      ],
      "text/plain": [
       "                        Date_Time   ETHUSD\n",
       "548720 2017-09-19 15:06:43.041518  288.305\n",
       "548721 2017-09-19 15:06:43.041518  288.305\n",
       "548722 2017-09-19 15:06:43.041518  288.305\n",
       "548723 2017-09-19 15:06:43.041518  288.305\n",
       "548724 2017-09-19 15:06:43.041518  288.305"
      ]
     },
     "execution_count": 9,
     "metadata": {},
     "output_type": "execute_result"
    }
   ],
   "source": [
    "date_time_price=date_time.join(dfPrices)\n",
    "date_time_price.columns = ['Date_Time', 'ETHUSD']\n",
    "date_time_price.tail()"
   ]
  },
  {
   "cell_type": "markdown",
   "metadata": {},
   "source": [
    "## Plot"
   ]
  },
  {
   "cell_type": "code",
   "execution_count": 10,
   "metadata": {
    "collapsed": true
   },
   "outputs": [],
   "source": [
    "price = dfPrices.iloc[len(dfPrices.index)-60:len(dfPrices.index)].as_matrix().ravel()"
   ]
  },
  {
   "cell_type": "markdown",
   "metadata": {},
   "source": [
    "### Price"
   ]
  },
  {
   "cell_type": "code",
   "execution_count": 11,
   "metadata": {},
   "outputs": [
    {
     "data": {
      "image/png": "[encoded data removed]",
      "text/plain": [
       "<matplotlib.figure.Figure at 0x1d918ed6d30>"
      ]
     },
     "metadata": {},
     "output_type": "display_data"
    }
   ],
   "source": [
    "prices = dfPrices.iloc[len(dfPrices.index)-60:len(dfPrices.index)].as_matrix().ravel()\n",
    "plt.figure(figsize=(25,7))\n",
    "plt.plot(prices,label='Test',color='black')\n",
    "plt.title('Price')\n",
    "plt.legend(loc='upper left')\n",
    "plt.show()"
   ]
  },
  {
   "cell_type": "markdown",
   "metadata": {},
   "source": [
    "### MACD"
   ]
  },
  {
   "cell_type": "code",
   "execution_count": 12,
   "metadata": {
    "collapsed": true
   },
   "outputs": [],
   "source": [
    "macd = MACD(dfPrices.iloc[len(dfPrices.index)-60:len(dfPrices.index)],4,12,3)"
   ]
  },
  {
   "cell_type": "code",
   "execution_count": 13,
   "metadata": {},
   "outputs": [
    {
     "data": {
      "image/png": "[encoded data removed]",
      "text/plain": [
       "<matplotlib.figure.Figure at 0x1d91f57c4a8>"
      ]
     },
     "metadata": {},
     "output_type": "display_data"
    }
   ],
   "source": [
    "plt.figure(figsize=(25,7))\n",
    "plt.plot(macd,label='macd',color='red')\n",
    "plt.title('MACD')\n",
    "plt.legend(loc='upper left')\n",
    "plt.show()"
   ]
  },
  {
   "cell_type": "markdown",
   "metadata": {},
   "source": [
    "### Stochastics Oscillator"
   ]
  },
  {
   "cell_type": "code",
   "execution_count": 14,
   "metadata": {
    "collapsed": true
   },
   "outputs": [],
   "source": [
    "stochastics = stochastics_oscillator(dfPrices.iloc[len(dfPrices.index)-60:len(dfPrices.index)],14)"
   ]
  },
  {
   "cell_type": "code",
   "execution_count": 15,
   "metadata": {},
   "outputs": [
    {
     "data": {
      "image/png": "[encoded data removed]",
      "text/plain": [
       "<matplotlib.figure.Figure at 0x1d94101d978>"
      ]
     },
     "metadata": {},
     "output_type": "display_data"
    }
   ],
   "source": [
    "plt.figure(figsize=(14,7))\n",
    "#First 100 points because it's too dense\n",
    "plt.plot(stochastics[0:100],label='Stochastics Oscillator',color='blue')\n",
    "plt.title('Stochastics Oscillator')\n",
    "plt.legend(loc='upper left')\n",
    "plt.show()"
   ]
  },
  {
   "cell_type": "markdown",
   "metadata": {},
   "source": [
    "## Create complete DataFrame & Save Data"
   ]
  },
  {
   "cell_type": "code",
   "execution_count": 16,
   "metadata": {
    "collapsed": true
   },
   "outputs": [],
   "source": [
    "#Shift prices a number of rows into the future to create a training dataset\n",
    "dfPriceShift = dfPrices.shift(-5)\n",
    "dfPriceShift.rename(columns={'Price':'PriceTarget'}, inplace=True)"
   ]
  },
  {
   "cell_type": "code",
   "execution_count": 17,
   "metadata": {},
   "outputs": [
    {
     "data": {
      "text/html": [
       "<div>\n",
       "<style>\n",
       "    .dataframe thead tr:only-child th {\n",
       "        text-align: right;\n",
       "    }\n",
       "\n",
       "    .dataframe thead th {\n",
       "        text-align: left;\n",
       "    }\n",
       "\n",
       "    .dataframe tbody tr th {\n",
       "        vertical-align: top;\n",
       "    }\n",
       "</style>\n",
       "<table border=\"1\" class=\"dataframe\">\n",
       "  <thead>\n",
       "    <tr style=\"text-align: right;\">\n",
       "      <th></th>\n",
       "      <th>PriceTarget</th>\n",
       "    </tr>\n",
       "  </thead>\n",
       "  <tbody>\n",
       "    <tr>\n",
       "      <th>0</th>\n",
       "      <td>290.925</td>\n",
       "    </tr>\n",
       "    <tr>\n",
       "      <th>1</th>\n",
       "      <td>290.925</td>\n",
       "    </tr>\n",
       "  </tbody>\n",
       "</table>\n",
       "</div>"
      ],
      "text/plain": [
       "   PriceTarget\n",
       "0      290.925\n",
       "1      290.925"
      ]
     },
     "execution_count": 17,
     "metadata": {},
     "output_type": "execute_result"
    }
   ],
   "source": [
    "dfPriceShift.head(2)"
   ]
  },
  {
   "cell_type": "code",
   "execution_count": 18,
   "metadata": {
    "collapsed": true
   },
   "outputs": [],
   "source": [
    "macd = MACD(dfPrices,12,26,9)\n",
    "macd.rename(columns={'Price':'MACD'}, inplace=True)"
   ]
  },
  {
   "cell_type": "code",
   "execution_count": 19,
   "metadata": {
    "collapsed": true
   },
   "outputs": [],
   "source": [
    "#stochastics = stochastics_oscillator(dfPrices,14)\n",
    "#stochastics.rename(columns={'Price':'Stochastics'}, inplace=True)"
   ]
  },
  {
   "cell_type": "code",
   "execution_count": 20,
   "metadata": {
    "collapsed": true
   },
   "outputs": [],
   "source": [
    "#atr = ATR(df,14)\n",
    "#atr.rename(columns={0:'ATR'}, inplace=True)"
   ]
  },
  {
   "cell_type": "code",
   "execution_count": 21,
   "metadata": {},
   "outputs": [
    {
     "data": {
      "text/html": [
       "<div>\n",
       "<style>\n",
       "    .dataframe thead tr:only-child th {\n",
       "        text-align: right;\n",
       "    }\n",
       "\n",
       "    .dataframe thead th {\n",
       "        text-align: left;\n",
       "    }\n",
       "\n",
       "    .dataframe tbody tr th {\n",
       "        vertical-align: top;\n",
       "    }\n",
       "</style>\n",
       "<table border=\"1\" class=\"dataframe\">\n",
       "  <thead>\n",
       "    <tr style=\"text-align: right;\">\n",
       "      <th></th>\n",
       "      <th>id</th>\n",
       "      <th>TradePrice</th>\n",
       "      <th>trade_volume</th>\n",
       "      <th>b1</th>\n",
       "      <th>b2</th>\n",
       "      <th>b3</th>\n",
       "      <th>b4</th>\n",
       "      <th>b5</th>\n",
       "      <th>b6</th>\n",
       "      <th>b7</th>\n",
       "      <th>...</th>\n",
       "      <th>aq27</th>\n",
       "      <th>aq28</th>\n",
       "      <th>aq29</th>\n",
       "      <th>aq30</th>\n",
       "      <th>order_date_time</th>\n",
       "      <th>trades_date_time</th>\n",
       "      <th>update_type</th>\n",
       "      <th>bbq1</th>\n",
       "      <th>aaq1</th>\n",
       "      <th>Spread</th>\n",
       "    </tr>\n",
       "  </thead>\n",
       "  <tbody>\n",
       "    <tr>\n",
       "      <th>0</th>\n",
       "      <td>2</td>\n",
       "      <td>0.00</td>\n",
       "      <td>0.000000</td>\n",
       "      <td>290.64</td>\n",
       "      <td>290.61</td>\n",
       "      <td>290.60</td>\n",
       "      <td>290.51</td>\n",
       "      <td>290.50</td>\n",
       "      <td>290.49</td>\n",
       "      <td>290.38</td>\n",
       "      <td>...</td>\n",
       "      <td>8.0119</td>\n",
       "      <td>11.300000</td>\n",
       "      <td>31.744415</td>\n",
       "      <td>0.010389</td>\n",
       "      <td>20170918 06:42:13.830687</td>\n",
       "      <td>20000101 00:00:00.000000</td>\n",
       "      <td>1</td>\n",
       "      <td>8.71920</td>\n",
       "      <td>87654.196000</td>\n",
       "      <td>0.28</td>\n",
       "    </tr>\n",
       "    <tr>\n",
       "      <th>1</th>\n",
       "      <td>4</td>\n",
       "      <td>0.00</td>\n",
       "      <td>0.000000</td>\n",
       "      <td>290.63</td>\n",
       "      <td>290.60</td>\n",
       "      <td>290.51</td>\n",
       "      <td>290.50</td>\n",
       "      <td>290.49</td>\n",
       "      <td>290.38</td>\n",
       "      <td>290.33</td>\n",
       "      <td>...</td>\n",
       "      <td>0.1110</td>\n",
       "      <td>8.011900</td>\n",
       "      <td>11.300000</td>\n",
       "      <td>31.744415</td>\n",
       "      <td>20170918 06:42:15.283817</td>\n",
       "      <td>20000101 00:00:00.000000</td>\n",
       "      <td>1</td>\n",
       "      <td>9073.46860</td>\n",
       "      <td>1275.342182</td>\n",
       "      <td>0.31</td>\n",
       "    </tr>\n",
       "    <tr>\n",
       "      <th>2</th>\n",
       "      <td>5</td>\n",
       "      <td>290.93</td>\n",
       "      <td>0.286487</td>\n",
       "      <td>290.63</td>\n",
       "      <td>290.60</td>\n",
       "      <td>290.51</td>\n",
       "      <td>290.50</td>\n",
       "      <td>290.49</td>\n",
       "      <td>290.38</td>\n",
       "      <td>290.33</td>\n",
       "      <td>...</td>\n",
       "      <td>0.1110</td>\n",
       "      <td>8.011900</td>\n",
       "      <td>11.300000</td>\n",
       "      <td>31.744415</td>\n",
       "      <td>20170918 06:42:15.283817</td>\n",
       "      <td>20170918 06:42:15.877565</td>\n",
       "      <td>2</td>\n",
       "      <td>9073.46860</td>\n",
       "      <td>1275.342182</td>\n",
       "      <td>0.31</td>\n",
       "    </tr>\n",
       "    <tr>\n",
       "      <th>3</th>\n",
       "      <td>6</td>\n",
       "      <td>290.93</td>\n",
       "      <td>0.286487</td>\n",
       "      <td>290.94</td>\n",
       "      <td>290.62</td>\n",
       "      <td>290.60</td>\n",
       "      <td>290.51</td>\n",
       "      <td>290.50</td>\n",
       "      <td>290.49</td>\n",
       "      <td>290.48</td>\n",
       "      <td>...</td>\n",
       "      <td>0.1110</td>\n",
       "      <td>8.011900</td>\n",
       "      <td>11.300000</td>\n",
       "      <td>31.744415</td>\n",
       "      <td>20170918 06:42:16.658818</td>\n",
       "      <td>20170918 06:42:15.877565</td>\n",
       "      <td>1</td>\n",
       "      <td>6223.20660</td>\n",
       "      <td>126.563250</td>\n",
       "      <td>0.01</td>\n",
       "    </tr>\n",
       "    <tr>\n",
       "      <th>4</th>\n",
       "      <td>8</td>\n",
       "      <td>290.93</td>\n",
       "      <td>0.286487</td>\n",
       "      <td>290.92</td>\n",
       "      <td>290.67</td>\n",
       "      <td>290.66</td>\n",
       "      <td>290.63</td>\n",
       "      <td>290.60</td>\n",
       "      <td>290.53</td>\n",
       "      <td>290.50</td>\n",
       "      <td>...</td>\n",
       "      <td>0.0589</td>\n",
       "      <td>5.496297</td>\n",
       "      <td>0.111000</td>\n",
       "      <td>8.011900</td>\n",
       "      <td>20170918 06:42:18.174597</td>\n",
       "      <td>20170918 06:42:15.877565</td>\n",
       "      <td>1</td>\n",
       "      <td>6574.50108</td>\n",
       "      <td>72.732500</td>\n",
       "      <td>0.01</td>\n",
       "    </tr>\n",
       "  </tbody>\n",
       "</table>\n",
       "<p>5 rows × 129 columns</p>\n",
       "</div>"
      ],
      "text/plain": [
       "   id  TradePrice  trade_volume      b1      b2      b3      b4      b5  \\\n",
       "0   2        0.00      0.000000  290.64  290.61  290.60  290.51  290.50   \n",
       "1   4        0.00      0.000000  290.63  290.60  290.51  290.50  290.49   \n",
       "2   5      290.93      0.286487  290.63  290.60  290.51  290.50  290.49   \n",
       "3   6      290.93      0.286487  290.94  290.62  290.60  290.51  290.50   \n",
       "4   8      290.93      0.286487  290.92  290.67  290.66  290.63  290.60   \n",
       "\n",
       "       b6      b7   ...      aq27       aq28       aq29       aq30  \\\n",
       "0  290.49  290.38   ...    8.0119  11.300000  31.744415   0.010389   \n",
       "1  290.38  290.33   ...    0.1110   8.011900  11.300000  31.744415   \n",
       "2  290.38  290.33   ...    0.1110   8.011900  11.300000  31.744415   \n",
       "3  290.49  290.48   ...    0.1110   8.011900  11.300000  31.744415   \n",
       "4  290.53  290.50   ...    0.0589   5.496297   0.111000   8.011900   \n",
       "\n",
       "            order_date_time          trades_date_time  update_type  \\\n",
       "0  20170918 06:42:13.830687  20000101 00:00:00.000000            1   \n",
       "1  20170918 06:42:15.283817  20000101 00:00:00.000000            1   \n",
       "2  20170918 06:42:15.283817  20170918 06:42:15.877565            2   \n",
       "3  20170918 06:42:16.658818  20170918 06:42:15.877565            1   \n",
       "4  20170918 06:42:18.174597  20170918 06:42:15.877565            1   \n",
       "\n",
       "         bbq1          aaq1  Spread  \n",
       "0     8.71920  87654.196000    0.28  \n",
       "1  9073.46860   1275.342182    0.31  \n",
       "2  9073.46860   1275.342182    0.31  \n",
       "3  6223.20660    126.563250    0.01  \n",
       "4  6574.50108     72.732500    0.01  \n",
       "\n",
       "[5 rows x 129 columns]"
      ]
     },
     "execution_count": 21,
     "metadata": {},
     "output_type": "execute_result"
    }
   ],
   "source": [
    "df[\"bbq1\"]=df[\"b1\"].multiply(df[\"bq1\"], axis=\"index\")\n",
    "df[\"aaq1\"]=df[\"a1\"].multiply(df[\"aq1\"], axis=\"index\")\n",
    "df[\"Spread\"]=df[\"a1\"]-df[\"b1\"]\n",
    "df.head()"
   ]
  },
  {
   "cell_type": "code",
   "execution_count": 22,
   "metadata": {
    "collapsed": true
   },
   "outputs": [],
   "source": [
    "\n",
    "vol = df[\"trade_volume\"]\n",
    "TradePrice = df[\"TradePrice\"]\n",
    "\n",
    "b1 = df[\"b1\"]\n",
    "b2 = df[\"b2\"]\n",
    "b3 = df[\"b3\"]\n",
    "b4 = df[\"b4\"]\n",
    "b5 = df[\"b5\"]\n",
    "b6 = df[\"b6\"]\n",
    "b7 = df[\"b7\"]\n",
    "b8 = df[\"b8\"]\n",
    "b9 = df[\"b9\"]\n",
    "b10 = df[\"b10\"]\n",
    "a1 = df[\"a1\"]\n",
    "a2 = df[\"a2\"]\n",
    "a3 = df[\"a3\"]\n",
    "a4 = df[\"a4\"]\n",
    "a5 = df[\"a5\"]\n",
    "a6 = df[\"a6\"]\n",
    "a7 = df[\"a7\"]\n",
    "a8 = df[\"a8\"]\n",
    "a9 = df[\"a9\"]\n",
    "a10 = df[\"a10\"]\n",
    "\n",
    "bq1 = df[\"bq1\"]\n",
    "bq2 = df[\"bq2\"]\n",
    "bq3 = df[\"bq3\"]\n",
    "bq4 = df[\"bq4\"]\n",
    "bq5 = df[\"bq5\"]\n",
    "bq6 = df[\"bq6\"]\n",
    "bq7 = df[\"bq7\"]\n",
    "bq8 = df[\"bq8\"]\n",
    "bq9 = df[\"bq9\"]\n",
    "bq10 = df[\"bq10\"]\n",
    "aq1 = df[\"aq1\"]\n",
    "aq2 = df[\"aq2\"]\n",
    "aq3 = df[\"aq3\"]\n",
    "aq4 = df[\"aq4\"]\n",
    "aq5 = df[\"aq5\"]\n",
    "aq6 = df[\"aq6\"]\n",
    "aq7 = df[\"aq7\"]\n",
    "aq8 = df[\"aq8\"]\n",
    "aq9 = df[\"aq9\"]\n",
    "aq10 = df[\"aq10\"]\n",
    "\n",
    "bbq1 = df[\"bbq1\"]\n",
    "aaq1 = df[\"aaq1\"]\n",
    "Spread = df[\"Spread\"]\n",
    "datetime = df[\"trades_date_time\"]\n",
    "\n",
    "#FIX THIS. Should it be trades or order date time?"
   ]
  },
  {
   "cell_type": "code",
   "execution_count": 23,
   "metadata": {
    "collapsed": true
   },
   "outputs": [],
   "source": [
    "final_data = pd.concat([dfPrices, dfPriceShift, macd,TradePrice, vol,b1,a1, bq1, aq1, Spread], axis=1)\n",
    "backtrader_data= pd.concat([datetime, TradePrice, vol], axis=1)\n",
    "# b1, b2, b3, b4, b5, b6, b7, b8, b9, b10,\n",
    "# a1, a2, a3, a4, a5, a6, a7, a8, a9, a10,\n",
    "# bq1,bq2,bq3,bq4,bq5,bq6,bq7,bq8,bq9,bq10, \n",
    "#  aq1, aq2, aq3, aq4, aq5, aq6, aq7, aq8, aq9, aq10, \n",
    "# Delete the entries with missing values (where the stochastics couldn't be computed yet) because have a lot of datapoints ;)\n",
    "#final_data = final_data.dropna()\n",
    "\n"
   ]
  },
  {
   "cell_type": "code",
   "execution_count": 24,
   "metadata": {},
   "outputs": [
    {
     "data": {
      "text/html": [
       "<div>\n",
       "<style>\n",
       "    .dataframe thead tr:only-child th {\n",
       "        text-align: right;\n",
       "    }\n",
       "\n",
       "    .dataframe thead th {\n",
       "        text-align: left;\n",
       "    }\n",
       "\n",
       "    .dataframe tbody tr th {\n",
       "        vertical-align: top;\n",
       "    }\n",
       "</style>\n",
       "<table border=\"1\" class=\"dataframe\">\n",
       "  <thead>\n",
       "    <tr style=\"text-align: right;\">\n",
       "      <th></th>\n",
       "      <th>Price</th>\n",
       "      <th>PriceTarget</th>\n",
       "      <th>MACD</th>\n",
       "      <th>TradePrice</th>\n",
       "      <th>trade_volume</th>\n",
       "      <th>b1</th>\n",
       "      <th>a1</th>\n",
       "      <th>bq1</th>\n",
       "      <th>aq1</th>\n",
       "      <th>Spread</th>\n",
       "    </tr>\n",
       "  </thead>\n",
       "  <tbody>\n",
       "    <tr>\n",
       "      <th>0</th>\n",
       "      <td>290.780</td>\n",
       "      <td>290.925</td>\n",
       "      <td>0.000000</td>\n",
       "      <td>0.00</td>\n",
       "      <td>0.000000</td>\n",
       "      <td>290.64</td>\n",
       "      <td>290.92</td>\n",
       "      <td>0.030</td>\n",
       "      <td>301.300000</td>\n",
       "      <td>0.28</td>\n",
       "    </tr>\n",
       "    <tr>\n",
       "      <th>1</th>\n",
       "      <td>290.785</td>\n",
       "      <td>290.925</td>\n",
       "      <td>0.000053</td>\n",
       "      <td>0.00</td>\n",
       "      <td>0.000000</td>\n",
       "      <td>290.63</td>\n",
       "      <td>290.94</td>\n",
       "      <td>31.220</td>\n",
       "      <td>4.383523</td>\n",
       "      <td>0.31</td>\n",
       "    </tr>\n",
       "    <tr>\n",
       "      <th>2</th>\n",
       "      <td>290.785</td>\n",
       "      <td>290.770</td>\n",
       "      <td>0.000053</td>\n",
       "      <td>290.93</td>\n",
       "      <td>0.286487</td>\n",
       "      <td>290.63</td>\n",
       "      <td>290.94</td>\n",
       "      <td>31.220</td>\n",
       "      <td>4.383523</td>\n",
       "      <td>0.31</td>\n",
       "    </tr>\n",
       "    <tr>\n",
       "      <th>3</th>\n",
       "      <td>290.945</td>\n",
       "      <td>290.770</td>\n",
       "      <td>0.004142</td>\n",
       "      <td>290.93</td>\n",
       "      <td>0.286487</td>\n",
       "      <td>290.94</td>\n",
       "      <td>290.95</td>\n",
       "      <td>21.390</td>\n",
       "      <td>0.435000</td>\n",
       "      <td>0.01</td>\n",
       "    </tr>\n",
       "    <tr>\n",
       "      <th>4</th>\n",
       "      <td>290.925</td>\n",
       "      <td>290.770</td>\n",
       "      <td>0.004811</td>\n",
       "      <td>290.93</td>\n",
       "      <td>0.286487</td>\n",
       "      <td>290.92</td>\n",
       "      <td>290.93</td>\n",
       "      <td>22.599</td>\n",
       "      <td>0.250000</td>\n",
       "      <td>0.01</td>\n",
       "    </tr>\n",
       "  </tbody>\n",
       "</table>\n",
       "</div>"
      ],
      "text/plain": [
       "     Price  PriceTarget      MACD  TradePrice  trade_volume      b1      a1  \\\n",
       "0  290.780      290.925  0.000000        0.00      0.000000  290.64  290.92   \n",
       "1  290.785      290.925  0.000053        0.00      0.000000  290.63  290.94   \n",
       "2  290.785      290.770  0.000053      290.93      0.286487  290.63  290.94   \n",
       "3  290.945      290.770  0.004142      290.93      0.286487  290.94  290.95   \n",
       "4  290.925      290.770  0.004811      290.93      0.286487  290.92  290.93   \n",
       "\n",
       "      bq1         aq1  Spread  \n",
       "0   0.030  301.300000    0.28  \n",
       "1  31.220    4.383523    0.31  \n",
       "2  31.220    4.383523    0.31  \n",
       "3  21.390    0.435000    0.01  \n",
       "4  22.599    0.250000    0.01  "
      ]
     },
     "execution_count": 24,
     "metadata": {},
     "output_type": "execute_result"
    }
   ],
   "source": [
    "final_data.head()"
   ]
  },
  {
   "cell_type": "code",
   "execution_count": 25,
   "metadata": {},
   "outputs": [
    {
     "data": {
      "text/html": [
       "<div>\n",
       "<style>\n",
       "    .dataframe thead tr:only-child th {\n",
       "        text-align: right;\n",
       "    }\n",
       "\n",
       "    .dataframe thead th {\n",
       "        text-align: left;\n",
       "    }\n",
       "\n",
       "    .dataframe tbody tr th {\n",
       "        vertical-align: top;\n",
       "    }\n",
       "</style>\n",
       "<table border=\"1\" class=\"dataframe\">\n",
       "  <thead>\n",
       "    <tr style=\"text-align: right;\">\n",
       "      <th></th>\n",
       "      <th>trades_date_time</th>\n",
       "      <th>TradePrice</th>\n",
       "      <th>open</th>\n",
       "      <th>high</th>\n",
       "      <th>low</th>\n",
       "      <th>close</th>\n",
       "      <th>trade_volume</th>\n",
       "    </tr>\n",
       "  </thead>\n",
       "  <tbody>\n",
       "    <tr>\n",
       "      <th>1</th>\n",
       "      <td>20000101 00:00:00.000000</td>\n",
       "      <td>0.00</td>\n",
       "      <td>0.00</td>\n",
       "      <td>0.00</td>\n",
       "      <td>0.00</td>\n",
       "      <td>0.00</td>\n",
       "      <td>0.000000</td>\n",
       "    </tr>\n",
       "    <tr>\n",
       "      <th>2</th>\n",
       "      <td>20170918 06:42:15.877565</td>\n",
       "      <td>290.93</td>\n",
       "      <td>290.93</td>\n",
       "      <td>290.93</td>\n",
       "      <td>290.93</td>\n",
       "      <td>290.93</td>\n",
       "      <td>0.286487</td>\n",
       "    </tr>\n",
       "    <tr>\n",
       "      <th>3</th>\n",
       "      <td>20170918 06:42:15.877565</td>\n",
       "      <td>290.93</td>\n",
       "      <td>290.93</td>\n",
       "      <td>290.93</td>\n",
       "      <td>290.93</td>\n",
       "      <td>290.93</td>\n",
       "      <td>0.286487</td>\n",
       "    </tr>\n",
       "    <tr>\n",
       "      <th>4</th>\n",
       "      <td>20170918 06:42:15.877565</td>\n",
       "      <td>290.93</td>\n",
       "      <td>290.93</td>\n",
       "      <td>290.93</td>\n",
       "      <td>290.93</td>\n",
       "      <td>290.93</td>\n",
       "      <td>0.286487</td>\n",
       "    </tr>\n",
       "    <tr>\n",
       "      <th>5</th>\n",
       "      <td>20170918 06:42:18.252739</td>\n",
       "      <td>290.66</td>\n",
       "      <td>290.66</td>\n",
       "      <td>290.66</td>\n",
       "      <td>290.66</td>\n",
       "      <td>290.66</td>\n",
       "      <td>0.030000</td>\n",
       "    </tr>\n",
       "  </tbody>\n",
       "</table>\n",
       "</div>"
      ],
      "text/plain": [
       "           trades_date_time  TradePrice    open    high     low   close  \\\n",
       "1  20000101 00:00:00.000000        0.00    0.00    0.00    0.00    0.00   \n",
       "2  20170918 06:42:15.877565      290.93  290.93  290.93  290.93  290.93   \n",
       "3  20170918 06:42:15.877565      290.93  290.93  290.93  290.93  290.93   \n",
       "4  20170918 06:42:15.877565      290.93  290.93  290.93  290.93  290.93   \n",
       "5  20170918 06:42:18.252739      290.66  290.66  290.66  290.66  290.66   \n",
       "\n",
       "   trade_volume  \n",
       "1      0.000000  \n",
       "2      0.286487  \n",
       "3      0.286487  \n",
       "4      0.286487  \n",
       "5      0.030000  "
      ]
     },
     "execution_count": 25,
     "metadata": {},
     "output_type": "execute_result"
    }
   ],
   "source": [
    "#backtrader_data=backtrader_data.drop_duplicates(['TradePrice'])\n",
    "backtrader_data['open']= backtrader_data['TradePrice']\n",
    "backtrader_data['high']= backtrader_data['TradePrice']\n",
    "backtrader_data['low']= backtrader_data['TradePrice']\n",
    "backtrader_data['close']= backtrader_data['TradePrice']\n",
    "backtrader_data = backtrader_data[['trades_date_time', 'TradePrice', 'open', 'high', 'low', 'close', 'trade_volume']]\n",
    "#date_time=pd.to_datetime(backtrader_data.trades_date_time, format=\"%Y%m%d %H:%M:%S.%f\").to_frame()\n",
    "backtrader_data = backtrader_data.drop(backtrader_data.index[0])\n",
    "backtrader_data.head()\n"
   ]
  },
  {
   "cell_type": "code",
   "execution_count": 26,
   "metadata": {
    "collapsed": true
   },
   "outputs": [],
   "source": [
    "final_data.to_csv('ETHUSD_TechnicalIndicators.csv',index=False)"
   ]
  },
  {
   "cell_type": "code",
   "execution_count": 27,
   "metadata": {
    "collapsed": true
   },
   "outputs": [],
   "source": [
    "#backtrader_data.to_csv('ETHUSD_backtrader.csv', date_format='%Y-%m-%d %H:%M:%S.%f', index=False)"
   ]
  },
  {
   "cell_type": "code",
   "execution_count": 28,
   "metadata": {
    "collapsed": true
   },
   "outputs": [],
   "source": [
    "backtrader_data.to_csv('ETHUSD_backtrader.csv',index=False)"
   ]
  },
  {
   "cell_type": "code",
   "execution_count": null,
   "metadata": {
    "collapsed": true
   },
   "outputs": [],
   "source": []
  }
 ],
 "metadata": {
  "celltoolbar": "Raw Cell Format",
  "kernelspec": {
   "display_name": "Python 3",
   "language": "python",
   "name": "python3"
  },
  "language_info": {
   "codemirror_mode": {
    "name": "ipython",
    "version": 3
   },
   "file_extension": ".py",
   "mimetype": "text/x-python",
   "name": "python",
   "nbconvert_exporter": "python",
   "pygments_lexer": "ipython3",
   "version": "3.6.1"
  }
 },
 "nbformat": 4,
 "nbformat_minor": 2
}
