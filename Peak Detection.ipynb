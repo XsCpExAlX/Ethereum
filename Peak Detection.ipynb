{
 "cells": [
  {
   "cell_type": "code",
   "execution_count": 1,
   "metadata": {
    "collapsed": true
   },
   "outputs": [],
   "source": [
    "import requests\n",
    "import datetime\n",
    "import time\n",
    "import pandas as pd\n",
    "import matplotlib.pyplot as plt\n",
    "import csv\n",
    "import numpy as np"
   ]
  },
  {
   "cell_type": "code",
   "execution_count": 2,
   "metadata": {},
   "outputs": [
    {
     "data": {
      "text/html": [
       "<div>\n",
       "<style>\n",
       "    .dataframe thead tr:only-child th {\n",
       "        text-align: right;\n",
       "    }\n",
       "\n",
       "    .dataframe thead th {\n",
       "        text-align: left;\n",
       "    }\n",
       "\n",
       "    .dataframe tbody tr th {\n",
       "        vertical-align: top;\n",
       "    }\n",
       "</style>\n",
       "<table border=\"1\" class=\"dataframe\">\n",
       "  <thead>\n",
       "    <tr style=\"text-align: right;\">\n",
       "      <th></th>\n",
       "      <th>id</th>\n",
       "      <th>trade_px</th>\n",
       "      <th>trade_volume</th>\n",
       "      <th>b1</th>\n",
       "      <th>b2</th>\n",
       "      <th>b3</th>\n",
       "      <th>b4</th>\n",
       "      <th>b5</th>\n",
       "      <th>b6</th>\n",
       "      <th>b7</th>\n",
       "      <th>...</th>\n",
       "      <th>aq24</th>\n",
       "      <th>aq25</th>\n",
       "      <th>aq26</th>\n",
       "      <th>aq27</th>\n",
       "      <th>aq28</th>\n",
       "      <th>aq29</th>\n",
       "      <th>aq30</th>\n",
       "      <th>order_date_time</th>\n",
       "      <th>trades_date_time</th>\n",
       "      <th>update_type</th>\n",
       "    </tr>\n",
       "  </thead>\n",
       "  <tbody>\n",
       "    <tr>\n",
       "      <th>2497</th>\n",
       "      <td>4966</td>\n",
       "      <td>294.10</td>\n",
       "      <td>0.050000</td>\n",
       "      <td>293.99</td>\n",
       "      <td>293.91</td>\n",
       "      <td>293.77</td>\n",
       "      <td>293.75</td>\n",
       "      <td>293.73</td>\n",
       "      <td>293.61</td>\n",
       "      <td>293.49</td>\n",
       "      <td>...</td>\n",
       "      <td>6.21894</td>\n",
       "      <td>0.0175</td>\n",
       "      <td>0.100612</td>\n",
       "      <td>12.0</td>\n",
       "      <td>0.0175</td>\n",
       "      <td>0.100612</td>\n",
       "      <td>0.01</td>\n",
       "      <td>20170918 07:11:09.725781</td>\n",
       "      <td>20170918 07:11:10.007027</td>\n",
       "      <td>2</td>\n",
       "    </tr>\n",
       "    <tr>\n",
       "      <th>2498</th>\n",
       "      <td>4967</td>\n",
       "      <td>294.14</td>\n",
       "      <td>0.509965</td>\n",
       "      <td>293.99</td>\n",
       "      <td>293.91</td>\n",
       "      <td>293.77</td>\n",
       "      <td>293.75</td>\n",
       "      <td>293.73</td>\n",
       "      <td>293.61</td>\n",
       "      <td>293.49</td>\n",
       "      <td>...</td>\n",
       "      <td>6.21894</td>\n",
       "      <td>0.0175</td>\n",
       "      <td>0.100612</td>\n",
       "      <td>12.0</td>\n",
       "      <td>0.0175</td>\n",
       "      <td>0.100612</td>\n",
       "      <td>0.01</td>\n",
       "      <td>20170918 07:11:09.725781</td>\n",
       "      <td>20170918 07:11:10.022653</td>\n",
       "      <td>2</td>\n",
       "    </tr>\n",
       "    <tr>\n",
       "      <th>2499</th>\n",
       "      <td>4968</td>\n",
       "      <td>294.15</td>\n",
       "      <td>0.017500</td>\n",
       "      <td>293.99</td>\n",
       "      <td>293.91</td>\n",
       "      <td>293.77</td>\n",
       "      <td>293.75</td>\n",
       "      <td>293.73</td>\n",
       "      <td>293.61</td>\n",
       "      <td>293.49</td>\n",
       "      <td>...</td>\n",
       "      <td>6.21894</td>\n",
       "      <td>0.0175</td>\n",
       "      <td>0.100612</td>\n",
       "      <td>12.0</td>\n",
       "      <td>0.0175</td>\n",
       "      <td>0.100612</td>\n",
       "      <td>0.01</td>\n",
       "      <td>20170918 07:11:09.725781</td>\n",
       "      <td>20170918 07:11:10.038279</td>\n",
       "      <td>2</td>\n",
       "    </tr>\n",
       "  </tbody>\n",
       "</table>\n",
       "<p>3 rows × 126 columns</p>\n",
       "</div>"
      ],
      "text/plain": [
       "        id  trade_px  trade_volume      b1      b2      b3      b4      b5  \\\n",
       "2497  4966    294.10      0.050000  293.99  293.91  293.77  293.75  293.73   \n",
       "2498  4967    294.14      0.509965  293.99  293.91  293.77  293.75  293.73   \n",
       "2499  4968    294.15      0.017500  293.99  293.91  293.77  293.75  293.73   \n",
       "\n",
       "          b6      b7     ...          aq24    aq25      aq26  aq27    aq28  \\\n",
       "2497  293.61  293.49     ...       6.21894  0.0175  0.100612  12.0  0.0175   \n",
       "2498  293.61  293.49     ...       6.21894  0.0175  0.100612  12.0  0.0175   \n",
       "2499  293.61  293.49     ...       6.21894  0.0175  0.100612  12.0  0.0175   \n",
       "\n",
       "          aq29  aq30           order_date_time          trades_date_time  \\\n",
       "2497  0.100612  0.01  20170918 07:11:09.725781  20170918 07:11:10.007027   \n",
       "2498  0.100612  0.01  20170918 07:11:09.725781  20170918 07:11:10.022653   \n",
       "2499  0.100612  0.01  20170918 07:11:09.725781  20170918 07:11:10.038279   \n",
       "\n",
       "      update_type  \n",
       "2497            2  \n",
       "2498            2  \n",
       "2499            2  \n",
       "\n",
       "[3 rows x 126 columns]"
      ]
     },
     "execution_count": 2,
     "metadata": {},
     "output_type": "execute_result"
    }
   ],
   "source": [
    "df = pd.read_csv('C:\\\\Users\\\\Jason\\Documents\\\\Python\\\\Stock Market Prediction\\\\Crypto\\\\ETHUSD2.CSV', nrows=2500)\n",
    "df.tail(3)"
   ]
  },
  {
   "cell_type": "code",
   "execution_count": 3,
   "metadata": {
    "scrolled": true
   },
   "outputs": [
    {
     "data": {
      "text/html": [
       "<div>\n",
       "<style>\n",
       "    .dataframe thead tr:only-child th {\n",
       "        text-align: right;\n",
       "    }\n",
       "\n",
       "    .dataframe thead th {\n",
       "        text-align: left;\n",
       "    }\n",
       "\n",
       "    .dataframe tbody tr th {\n",
       "        vertical-align: top;\n",
       "    }\n",
       "</style>\n",
       "<table border=\"1\" class=\"dataframe\">\n",
       "  <thead>\n",
       "    <tr style=\"text-align: right;\">\n",
       "      <th></th>\n",
       "      <th>id</th>\n",
       "      <th>trade_px</th>\n",
       "      <th>trade_volume</th>\n",
       "      <th>b1</th>\n",
       "      <th>b2</th>\n",
       "      <th>b3</th>\n",
       "      <th>b4</th>\n",
       "      <th>b5</th>\n",
       "      <th>b6</th>\n",
       "      <th>b7</th>\n",
       "      <th>...</th>\n",
       "      <th>aq22</th>\n",
       "      <th>aq23</th>\n",
       "      <th>aq24</th>\n",
       "      <th>aq25</th>\n",
       "      <th>aq26</th>\n",
       "      <th>aq27</th>\n",
       "      <th>aq28</th>\n",
       "      <th>aq29</th>\n",
       "      <th>aq30</th>\n",
       "      <th>update_type</th>\n",
       "    </tr>\n",
       "    <tr>\n",
       "      <th>order_date_time</th>\n",
       "      <th></th>\n",
       "      <th></th>\n",
       "      <th></th>\n",
       "      <th></th>\n",
       "      <th></th>\n",
       "      <th></th>\n",
       "      <th></th>\n",
       "      <th></th>\n",
       "      <th></th>\n",
       "      <th></th>\n",
       "      <th></th>\n",
       "      <th></th>\n",
       "      <th></th>\n",
       "      <th></th>\n",
       "      <th></th>\n",
       "      <th></th>\n",
       "      <th></th>\n",
       "      <th></th>\n",
       "      <th></th>\n",
       "      <th></th>\n",
       "      <th></th>\n",
       "    </tr>\n",
       "  </thead>\n",
       "  <tbody>\n",
       "    <tr>\n",
       "      <th>2017-09-18 06:42:15</th>\n",
       "      <td>4.50</td>\n",
       "      <td>145.465000</td>\n",
       "      <td>0.143244</td>\n",
       "      <td>290.63</td>\n",
       "      <td>290.600</td>\n",
       "      <td>290.51</td>\n",
       "      <td>290.50</td>\n",
       "      <td>290.49</td>\n",
       "      <td>290.38</td>\n",
       "      <td>290.33</td>\n",
       "      <td>...</td>\n",
       "      <td>0.075</td>\n",
       "      <td>8.010000</td>\n",
       "      <td>0.101664</td>\n",
       "      <td>0.058900</td>\n",
       "      <td>5.496297</td>\n",
       "      <td>0.11100</td>\n",
       "      <td>8.011900</td>\n",
       "      <td>11.3000</td>\n",
       "      <td>31.744415</td>\n",
       "      <td>1.500000</td>\n",
       "    </tr>\n",
       "    <tr>\n",
       "      <th>2017-09-18 06:42:16</th>\n",
       "      <td>6.00</td>\n",
       "      <td>290.930000</td>\n",
       "      <td>0.286487</td>\n",
       "      <td>290.94</td>\n",
       "      <td>290.620</td>\n",
       "      <td>290.60</td>\n",
       "      <td>290.51</td>\n",
       "      <td>290.50</td>\n",
       "      <td>290.49</td>\n",
       "      <td>290.48</td>\n",
       "      <td>...</td>\n",
       "      <td>8.010</td>\n",
       "      <td>0.101664</td>\n",
       "      <td>0.058900</td>\n",
       "      <td>5.496297</td>\n",
       "      <td>38.560336</td>\n",
       "      <td>0.11100</td>\n",
       "      <td>8.011900</td>\n",
       "      <td>11.3000</td>\n",
       "      <td>31.744415</td>\n",
       "      <td>1.000000</td>\n",
       "    </tr>\n",
       "    <tr>\n",
       "      <th>2017-09-18 06:42:17</th>\n",
       "      <td>7.50</td>\n",
       "      <td>290.883333</td>\n",
       "      <td>1.128718</td>\n",
       "      <td>290.93</td>\n",
       "      <td>290.645</td>\n",
       "      <td>290.63</td>\n",
       "      <td>290.57</td>\n",
       "      <td>290.55</td>\n",
       "      <td>290.51</td>\n",
       "      <td>290.49</td>\n",
       "      <td>...</td>\n",
       "      <td>8.005</td>\n",
       "      <td>19.331000</td>\n",
       "      <td>0.066950</td>\n",
       "      <td>6.753148</td>\n",
       "      <td>19.331000</td>\n",
       "      <td>0.08495</td>\n",
       "      <td>6.754098</td>\n",
       "      <td>5.7055</td>\n",
       "      <td>19.878157</td>\n",
       "      <td>1.333333</td>\n",
       "    </tr>\n",
       "    <tr>\n",
       "      <th>2017-09-18 06:42:18</th>\n",
       "      <td>9.00</td>\n",
       "      <td>290.836667</td>\n",
       "      <td>1.970948</td>\n",
       "      <td>290.92</td>\n",
       "      <td>290.670</td>\n",
       "      <td>290.66</td>\n",
       "      <td>290.63</td>\n",
       "      <td>290.60</td>\n",
       "      <td>290.53</td>\n",
       "      <td>290.50</td>\n",
       "      <td>...</td>\n",
       "      <td>8.000</td>\n",
       "      <td>38.560336</td>\n",
       "      <td>0.075000</td>\n",
       "      <td>8.010000</td>\n",
       "      <td>0.101664</td>\n",
       "      <td>0.05890</td>\n",
       "      <td>5.496297</td>\n",
       "      <td>0.1110</td>\n",
       "      <td>8.011900</td>\n",
       "      <td>1.666667</td>\n",
       "    </tr>\n",
       "    <tr>\n",
       "      <th>2017-09-18 06:42:19</th>\n",
       "      <td>14.25</td>\n",
       "      <td>290.695000</td>\n",
       "      <td>2.017940</td>\n",
       "      <td>290.60</td>\n",
       "      <td>290.530</td>\n",
       "      <td>290.50</td>\n",
       "      <td>290.49</td>\n",
       "      <td>290.48</td>\n",
       "      <td>290.38</td>\n",
       "      <td>290.36</td>\n",
       "      <td>...</td>\n",
       "      <td>0.075</td>\n",
       "      <td>8.010000</td>\n",
       "      <td>0.101664</td>\n",
       "      <td>0.058900</td>\n",
       "      <td>5.496297</td>\n",
       "      <td>0.11100</td>\n",
       "      <td>8.011900</td>\n",
       "      <td>11.3000</td>\n",
       "      <td>31.744415</td>\n",
       "      <td>1.750000</td>\n",
       "    </tr>\n",
       "  </tbody>\n",
       "</table>\n",
       "<p>5 rows × 124 columns</p>\n",
       "</div>"
      ],
      "text/plain": [
       "                        id    trade_px  trade_volume      b1       b2      b3  \\\n",
       "order_date_time                                                                 \n",
       "2017-09-18 06:42:15   4.50  145.465000      0.143244  290.63  290.600  290.51   \n",
       "2017-09-18 06:42:16   6.00  290.930000      0.286487  290.94  290.620  290.60   \n",
       "2017-09-18 06:42:17   7.50  290.883333      1.128718  290.93  290.645  290.63   \n",
       "2017-09-18 06:42:18   9.00  290.836667      1.970948  290.92  290.670  290.66   \n",
       "2017-09-18 06:42:19  14.25  290.695000      2.017940  290.60  290.530  290.50   \n",
       "\n",
       "                         b4      b5      b6      b7     ...        aq22  \\\n",
       "order_date_time                                         ...               \n",
       "2017-09-18 06:42:15  290.50  290.49  290.38  290.33     ...       0.075   \n",
       "2017-09-18 06:42:16  290.51  290.50  290.49  290.48     ...       8.010   \n",
       "2017-09-18 06:42:17  290.57  290.55  290.51  290.49     ...       8.005   \n",
       "2017-09-18 06:42:18  290.63  290.60  290.53  290.50     ...       8.000   \n",
       "2017-09-18 06:42:19  290.49  290.48  290.38  290.36     ...       0.075   \n",
       "\n",
       "                          aq23      aq24      aq25       aq26     aq27  \\\n",
       "order_date_time                                                          \n",
       "2017-09-18 06:42:15   8.010000  0.101664  0.058900   5.496297  0.11100   \n",
       "2017-09-18 06:42:16   0.101664  0.058900  5.496297  38.560336  0.11100   \n",
       "2017-09-18 06:42:17  19.331000  0.066950  6.753148  19.331000  0.08495   \n",
       "2017-09-18 06:42:18  38.560336  0.075000  8.010000   0.101664  0.05890   \n",
       "2017-09-18 06:42:19   8.010000  0.101664  0.058900   5.496297  0.11100   \n",
       "\n",
       "                         aq28     aq29       aq30  update_type  \n",
       "order_date_time                                                 \n",
       "2017-09-18 06:42:15  8.011900  11.3000  31.744415     1.500000  \n",
       "2017-09-18 06:42:16  8.011900  11.3000  31.744415     1.000000  \n",
       "2017-09-18 06:42:17  6.754098   5.7055  19.878157     1.333333  \n",
       "2017-09-18 06:42:18  5.496297   0.1110   8.011900     1.666667  \n",
       "2017-09-18 06:42:19  8.011900  11.3000  31.744415     1.750000  \n",
       "\n",
       "[5 rows x 124 columns]"
      ]
     },
     "execution_count": 3,
     "metadata": {},
     "output_type": "execute_result"
    }
   ],
   "source": [
    "df.index = pd.to_datetime(df['order_date_time'])\n",
    "df=df.drop(df.index[:1])\n",
    "resample = df.resample('s').mean()\n",
    "resample=resample.interpolate(method='linear')\n",
    "#resample=resample.drop(resample.index[:1])\n",
    "resample.head()"
   ]
  },
  {
   "cell_type": "code",
   "execution_count": null,
   "metadata": {
    "collapsed": true
   },
   "outputs": [],
   "source": []
  },
  {
   "cell_type": "code",
   "execution_count": 4,
   "metadata": {
    "collapsed": true
   },
   "outputs": [],
   "source": [
    "def detect_peaks(x, mph=None, mpd=1, threshold=0, edge='rising',\n",
    "                 kpsh=False, valley=False, show=True, ax=None):\n",
    "\n",
    "    x = np.atleast_1d(x).astype('float64')\n",
    "    if x.size < 3:\n",
    "        return np.array([], dtype=int)\n",
    "    if valley:\n",
    "        x = -x\n",
    "    # find indices of all peaks\n",
    "    dx = x[1:] - x[:-1]\n",
    "    # handle NaN's\n",
    "    indnan = np.where(np.isnan(x))[0]\n",
    "    if indnan.size:\n",
    "        x[indnan] = np.inf\n",
    "        dx[np.where(np.isnan(dx))[0]] = np.inf\n",
    "    ine, ire, ife = np.array([[], [], []], dtype=int)\n",
    "    if not edge:\n",
    "        ine = np.where((np.hstack((dx, 0)) < 0) & (np.hstack((0, dx)) > 0))[0]\n",
    "    else:\n",
    "        if edge.lower() in ['rising', 'both']:\n",
    "            ire = np.where((np.hstack((dx, 0)) <= 0) & (np.hstack((0, dx)) > 0))[0]\n",
    "        if edge.lower() in ['falling', 'both']:\n",
    "            ife = np.where((np.hstack((dx, 0)) < 0) & (np.hstack((0, dx)) >= 0))[0]\n",
    "    ind = np.unique(np.hstack((ine, ire, ife)))\n",
    "    # handle NaN's\n",
    "    if ind.size and indnan.size:\n",
    "        # NaN's and values close to NaN's cannot be peaks\n",
    "        ind = ind[np.in1d(ind, np.unique(np.hstack((indnan, indnan - 1, indnan + 1))), invert=True)]\n",
    "    # first and last values of x cannot be peaks\n",
    "    if ind.size and ind[0] == 0:\n",
    "        ind = ind[1:]\n",
    "    if ind.size and ind[-1] == x.size - 1:\n",
    "        ind = ind[:-1]\n",
    "    # remove peaks < minimum peak height\n",
    "    if ind.size and mph is not None:\n",
    "        ind = ind[x[ind] >= mph]\n",
    "    # remove peaks - neighbors < threshold\n",
    "    if ind.size and threshold > 0:\n",
    "        #dx = np.min(np.vstack([x[ind] - x[ind - 1], x[ind] - x[ind + 1]]), axis=0)\n",
    "        dx = abs(x[ind] - x[ind - 1])\n",
    "        ind = np.delete(ind, np.where(dx < threshold)[0])\n",
    "    # detect small peaks closer than minimum peak distance\n",
    "    if ind.size and mpd > 1:\n",
    "        ind = ind[np.argsort(x[ind])][::-1]  # sort ind by peak height\n",
    "        idel = np.zeros(ind.size, dtype=bool)\n",
    "        for i in range(ind.size):\n",
    "            if not idel[i]:\n",
    "                # keep peaks with the same height if kpsh is True\n",
    "                idel = idel | (ind >= ind[i] - mpd) & (ind <= ind[i] + mpd) \\\n",
    "                              & (x[ind[i]] > x[ind] if kpsh else True)\n",
    "                idel[i] = 0  # Keep current peak\n",
    "        # remove the small peaks and sort back the indices by their occurrence\n",
    "        ind = np.sort(ind[~idel])\n",
    "\n",
    "    if show:\n",
    "        if indnan.size:\n",
    "            x[indnan] = np.nan\n",
    "        if valley:\n",
    "            x = -x\n",
    "        _plot(x, mph, mpd, threshold, edge, valley, ax, ind)\n",
    "\n",
    "    return ind\n",
    "\n",
    "\n",
    "def _plot(x, mph, mpd, threshold, edge, valley, ax, ind):\n",
    "    \"\"\"Plot results of the detect_peaks function, see its help.\"\"\"\n",
    "    try:\n",
    "        import matplotlib.pyplot as plt\n",
    "    except ImportError:\n",
    "        print('matplotlib is not available.')\n",
    "    else:\n",
    "        if ax is None:\n",
    "            _, ax = plt.subplots(1, 1, figsize=(18, 6))\n",
    "\n",
    "        ax.plot(x, 'b', lw=1)\n",
    "        if ind.size:\n",
    "            label = 'valley' if valley else 'peak'\n",
    "            label = label + 's' if ind.size > 1 else label\n",
    "            ax.plot(ind, x[ind], '.', mfc=None, mec='r', mew=2, ms=2,\n",
    "                    label='%d %s' % (ind.size, label))\n",
    "            ax.legend(loc='best', framealpha=.5, numpoints=1)\n",
    "        ax.set_xlim(-.02 * x.size, x.size * 1.02 - 1)\n",
    "        ymin, ymax = x[np.isfinite(x)].min(), x[np.isfinite(x)].max()\n",
    "        yrange = ymax - ymin if ymax > ymin else 1\n",
    "        ax.set_ylim(ymin - 0.1 * yrange, ymax + 0.1 * yrange)\n",
    "        ax.set_xlabel('Data #', fontsize=14)\n",
    "        ax.set_ylabel('Amplitude', fontsize=14)\n",
    "        mode = 'Valley detection' if valley else 'Peak detection'\n",
    "        ax.set_title(\"%s (mph=%s, mpd=%d, threshold=%s, edge='%s')\"\n",
    "                     % (mode, str(mph), mpd, str(threshold), edge))\n",
    "        # plt.grid()\n"
   ]
  },
  {
   "cell_type": "code",
   "execution_count": 5,
   "metadata": {
    "collapsed": true
   },
   "outputs": [],
   "source": [
    "gdaxArray=resample['trade_px'].values\n",
    "gdaxArray=gdaxArray[1:]"
   ]
  },
  {
   "cell_type": "code",
   "execution_count": 6,
   "metadata": {},
   "outputs": [
    {
     "data": {
      "text/plain": [
       "array([ 294.051     ,  294.        ,  294.        , ...,  290.83666667,\n",
       "        290.88333333,  290.93      ])"
      ]
     },
     "execution_count": 6,
     "metadata": {},
     "output_type": "execute_result"
    }
   ],
   "source": [
    "gdaxRev = gdaxArray[::-1]\n",
    "gdaxRev"
   ]
  },
  {
   "cell_type": "code",
   "execution_count": 7,
   "metadata": {},
   "outputs": [
    {
     "data": {
      "text/plain": [
       "array([   5,   14,   37,   52,   63,   74,   99,  131,  168,  218,  260,\n",
       "        277,  352,  361,  381,  391,  398,  408,  469,  475,  497,  507,\n",
       "        527,  632,  724,  736,  845,  851,  873,  882,  898,  920,  959,\n",
       "        975,  989,  995, 1007, 1017, 1052, 1074, 1134, 1179, 1230, 1243,\n",
       "       1271, 1297, 1306, 1315, 1334, 1349, 1363, 1414, 1441, 1455, 1501,\n",
       "       1510, 1525, 1569, 1575, 1587, 1622, 1654, 1666, 1696], dtype=int64)"
      ]
     },
     "execution_count": 7,
     "metadata": {},
     "output_type": "execute_result"
    }
   ],
   "source": [
    "\n",
    "peaks= detect_peaks(gdaxArray,mpd=5,edge = 'both', threshold = .01, show = False)\n",
    "peaks\n",
    "#_plot(gdaxArray, mph=0.05, mpd=1, threshold = 0.01, valley = False, ind \n",
    "#ax=None, threshold = .01, show = True )\n"
   ]
  },
  {
   "cell_type": "code",
   "execution_count": 8,
   "metadata": {
    "collapsed": true
   },
   "outputs": [],
   "source": [
    "valleys= detect_peaks(gdaxArray,mpd=10, threshold = .01, valley = True, edge = 'both', show = False)\n",
    "#peaks\n",
    "#_plot(gdaxArray, mph=0.05, mpd=1, threshold = 0.01, valley = False, ind \n",
    "#ax=None, threshold = .01, show = True )\n"
   ]
  },
  {
   "cell_type": "code",
   "execution_count": 9,
   "metadata": {},
   "outputs": [
    {
     "data": {
      "image/png": "[encoded data removed]",
      "text/plain": [
       "<matplotlib.figure.Figure at 0x2101d87b8d0>"
      ]
     },
     "metadata": {},
     "output_type": "display_data"
    }
   ],
   "source": [
    "plt.figure(figsize=(25,7))\n",
    "plt.plot(resample['trade_px'],label='ETHGDAX',color='b')\n",
    "plt.plot(resample['trade_px'].iloc[peaks], linestyle='', marker='o',markersize=3, color='r')\n",
    "plt.plot(resample['trade_px'].iloc[valleys], linestyle='', marker='o',markersize=3, color='black')\n",
    "#plt.xlim([1, 5000])\n",
    "#plt.ylim([1000, 1120])\n",
    "#df.iloc[indices]\n",
    "plt.title('Price')\n",
    "plt.legend(loc='upper left')\n",
    "plt.show()"
   ]
  },
  {
   "cell_type": "code",
   "execution_count": 10,
   "metadata": {},
   "outputs": [
    {
     "data": {
      "text/plain": [
       "array([   1,   44,   75,   82,  132,  149,  161,  167,  211,  226,  233,\n",
       "        281,  294,  322,  346,  356,  373,  401,  415,  421,  428,  438,\n",
       "        467,  493,  511,  557,  602,  621,  635,  662,  684,  719,  727,\n",
       "        741,  747,  753,  761,  779,  792,  816,  841,  848,  854,  863,\n",
       "        873,  885,  891,  916, 1000, 1010, 1104, 1209, 1239, 1261, 1271,\n",
       "       1328, 1336, 1344, 1354, 1360, 1375, 1390, 1459, 1476, 1518, 1545,\n",
       "       1568, 1605, 1630, 1637, 1656, 1673, 1682, 1722, 1730], dtype=int64)"
      ]
     },
     "execution_count": 10,
     "metadata": {},
     "output_type": "execute_result"
    }
   ],
   "source": [
    "Rvalleys= detect_peaks(gdaxRev,mpd=5, threshold = .01, valley = True, edge = 'rising', show = False)\n",
    "Rpeaks= detect_peaks(gdaxRev,mpd=5,edge = 'both', threshold = .01, show = False)\n",
    "Rvalleys"
   ]
  },
  {
   "cell_type": "code",
   "execution_count": 11,
   "metadata": {},
   "outputs": [
    {
     "data": {
      "text/plain": [
       "array([ 290.695     ,  290.61      ,  290.115     ,  290.19      ,\n",
       "        290.2       ,  290.25      ,  290.        ,  290.18      ,\n",
       "        290.106     ,  289.95      ,  289.97      ,  290.07      ,\n",
       "        290.05      ,  290.18      ,  290.73      ,  290.99      ,\n",
       "        291.75111111,  291.705     ,  291.44      ,  291.08      ,\n",
       "        290.49      ,  290.96035714,  291.02      ,  290.75      ,\n",
       "        290.96      ,  291.68      ,  291.68      ,  291.77      ,\n",
       "        292.        ,  292.13      ,  292.49      ,  292.54      ,\n",
       "        292.62      ,  293.0725    ,  293.07      ,  292.84      ,\n",
       "        293.11      ,  293.26      ,  294.01      ,  293.94      ,\n",
       "        293.99      ,  293.99      ,  294.21272727,  294.38      ,\n",
       "        294.4       ,  294.495     ,  294.58      ,  294.75      ,\n",
       "        294.785     ,  294.94      ,  295.        ,  295.71      ,\n",
       "        295.9       ,  295.5       ,  295.68      ,  295.18      ,\n",
       "        295.092     ,  294.67      ,  294.68      ,  294.88      ,\n",
       "        294.83      ,  294.93      ,  294.91428571,  294.69      ,\n",
       "        293.68      ,  293.6       ,  293.16375   ,  292.04      ,\n",
       "        292.47      ,  292.03      ,  292.03      ,  292.31      ,\n",
       "        292.5       ,  293.61      ,  294.        ])"
      ]
     },
     "execution_count": 11,
     "metadata": {},
     "output_type": "execute_result"
    }
   ],
   "source": [
    "gdaxRev[Rvalleys][::-1]"
   ]
  },
  {
   "cell_type": "code",
   "execution_count": 12,
   "metadata": {},
   "outputs": [
    {
     "data": {
      "image/png": "[encoded data removed]",
      "text/plain": [
       "<matplotlib.figure.Figure at 0x2101dfbd208>"
      ]
     },
     "metadata": {},
     "output_type": "display_data"
    }
   ],
   "source": [
    "plt.figure(figsize=(25,7))\n",
    "#data.iloc[::-1]\n",
    "plt.plot(gdaxRev,label='ETHGDAX',color='b')\n",
    "#plt.plot(Rvalleys[::-1], gdaxRev[Rvalleys][::-1],linestyle='',marker='o',markersize=3,color='black')\n",
    "plt.plot(Rvalleys, gdaxRev[Rvalleys],linestyle='',marker='o',markersize=3,color='black')\n",
    "plt.plot(Rpeaks, gdaxRev[Rpeaks],linestyle='',marker='o',markersize=3,color='red')\n",
    "\n",
    "            #linestyle='', marker='o',markersize=3, color='black')\n",
    "#plt.xlim([0, 5000])\n",
    "#plt.ylim([1000, 1120])\n",
    "#df.iloc[indices]\n",
    "plt.title('Price')\n",
    "plt.legend(loc='upper left')\n",
    "plt.show()"
   ]
  },
  {
   "cell_type": "code",
   "execution_count": 13,
   "metadata": {},
   "outputs": [
    {
     "data": {
      "text/plain": [
       "array([   5,   14,   37,   42,   52,   63,   66,   74,   99,  118,  131,\n",
       "        149,  164,  168,  171,  177,  183,  194,  218,  221,  260,  268,\n",
       "        277,  352,  361,  381,  382,  391,  392,  398,  408,  423,  441,\n",
       "        469,  471,  475,  480,  497,  507,  510,  527,  632,  724,  736,\n",
       "        845,  851,  873,  878,  882,  884,  890,  898,  900,  909,  920,\n",
       "        946,  959,  971,  975,  989,  995, 1004, 1007, 1017, 1052, 1074,\n",
       "       1134, 1179, 1230, 1231, 1243, 1254, 1271, 1281, 1292, 1297, 1302,\n",
       "       1306, 1315, 1317, 1334, 1340, 1349, 1363, 1376, 1414, 1438, 1441,\n",
       "       1455, 1471, 1490, 1501, 1510, 1512, 1525, 1545, 1553, 1569, 1575,\n",
       "       1577, 1587, 1598, 1614, 1622, 1654, 1666, 1696], dtype=int64)"
      ]
     },
     "execution_count": 13,
     "metadata": {},
     "output_type": "execute_result"
    }
   ],
   "source": [
    "valleys = (len(gdaxRev)-1)-Rvalleys\n",
    "cpeaks = (len(gdaxRev)-1)-Rpeaks\n",
    "cpeaks = np.append(cpeaks, peaks)\n",
    "cpeaks = np.unique(cpeaks)\n",
    "valleys = valleys[::-1]\n",
    "cpeaks"
   ]
  },
  {
   "cell_type": "code",
   "execution_count": 14,
   "metadata": {
    "scrolled": true
   },
   "outputs": [
    {
     "data": {
      "image/png": "[encoded data removed]",
      "text/plain": [
       "<matplotlib.figure.Figure at 0x2101e2dfb00>"
      ]
     },
     "metadata": {},
     "output_type": "display_data"
    }
   ],
   "source": [
    "plt.figure(figsize=(25,7))\n",
    "plt.plot(gdaxArray,label='ETHGDAX',color='b')\n",
    "plt.plot(valleys, gdaxArray[valleys],linestyle='',marker='o',markersize=3,color='black')\n",
    "plt.plot(cpeaks, gdaxArray[cpeaks],linestyle='',marker='o',markersize=3,color='red')\n",
    "\n",
    "plt.title('Price')\n",
    "plt.legend(loc='upper left')\n",
    "plt.show()"
   ]
  },
  {
   "cell_type": "code",
   "execution_count": 15,
   "metadata": {},
   "outputs": [
    {
     "data": {
      "text/plain": [
       "75"
      ]
     },
     "execution_count": 15,
     "metadata": {},
     "output_type": "execute_result"
    }
   ],
   "source": [
    "len(valleys)"
   ]
  },
  {
   "cell_type": "code",
   "execution_count": 35,
   "metadata": {
    "scrolled": true
   },
   "outputs": [
    {
     "data": {
      "text/plain": [
       "array([   3,   11,   51,   60,   77,   96,  103,  128,  165,  188,  215,\n",
       "        257,  274,  343,  358,  373,  379,  389,  397,  405,  462,  472,\n",
       "        494,  524,  629,  723,  733,  817,  842,  848,  860,  870,  879,\n",
       "        885,  892,  917,  941,  954,  972,  980,  986,  992, 1006, 1014,\n",
       "       1049, 1071, 1098, 1112, 1131, 1176, 1222, 1240, 1266, 1295, 1305,\n",
       "       1312, 1318, 1332, 1360, 1377, 1387, 1411, 1439, 1452, 1500, 1507,\n",
       "       1522, 1566, 1572, 1584, 1601, 1651, 1658, 1689, 1732], dtype=int64)"
      ]
     },
     "execution_count": 35,
     "metadata": {},
     "output_type": "execute_result"
    }
   ],
   "source": [
    "FinalPeakArray=[]\n",
    "i = 0\n",
    "HighestLocalPeak = 0\n",
    "while i < len(valleys)-1:\n",
    "    start = valleys[i]\n",
    "    end = valleys[i+1]\n",
    "    #cpeaks[valleys[i]:valleys[i+1]]\n",
    "    #FinalPeaks = max(gdaxArray[cpeaks] for cpeaks in range(valleys[i],valleys[i+1]))\n",
    "    for x in range(start, end):\n",
    "        #while  x< len(gdaxArray):\n",
    "        if gdaxArray[x] >= HighestLocalPeak:\n",
    "            #FinalPeaks = np.argmax(cpeaks[start:end])\n",
    "            HighestLocalPeak = gdaxArray[x]\n",
    "            LocalPeakPos = x\n",
    "         #break\n",
    "    FinalPeakArray.append(LocalPeakPos)        \n",
    "    HighestLocalPeak = 0\n",
    "    i+=1\n",
    "\n",
    "valleys"
   ]
  },
  {
   "cell_type": "code",
   "execution_count": 33,
   "metadata": {},
   "outputs": [
    {
     "data": {
      "text/plain": [
       "[5,\n",
       " 42,\n",
       " 59,\n",
       " 66,\n",
       " 95,\n",
       " 99,\n",
       " 118,\n",
       " 149,\n",
       " 171,\n",
       " 194,\n",
       " 236,\n",
       " 268,\n",
       " 342,\n",
       " 352,\n",
       " 372,\n",
       " 377,\n",
       " 382,\n",
       " 392,\n",
       " 398,\n",
       " 410,\n",
       " 471,\n",
       " 493,\n",
       " 510,\n",
       " 527,\n",
       " 644,\n",
       " 724,\n",
       " 816,\n",
       " 841,\n",
       " 845,\n",
       " 859,\n",
       " 869,\n",
       " 878,\n",
       " 884,\n",
       " 890,\n",
       " 900,\n",
       " 920,\n",
       " 946,\n",
       " 971,\n",
       " 975,\n",
       " 985,\n",
       " 989,\n",
       " 995,\n",
       " 1013,\n",
       " 1038,\n",
       " 1069,\n",
       " 1097,\n",
       " 1111,\n",
       " 1130,\n",
       " 1175,\n",
       " 1221,\n",
       " 1231,\n",
       " 1245,\n",
       " 1281,\n",
       " 1302,\n",
       " 1306,\n",
       " 1317,\n",
       " 1321,\n",
       " 1334,\n",
       " 1364,\n",
       " 1381,\n",
       " 1410,\n",
       " 1424,\n",
       " 1441,\n",
       " 1471,\n",
       " 1501,\n",
       " 1512,\n",
       " 1525,\n",
       " 1571,\n",
       " 1577,\n",
       " 1598,\n",
       " 1650,\n",
       " 1657,\n",
       " 1688,\n",
       " 1731]"
      ]
     },
     "execution_count": 33,
     "metadata": {},
     "output_type": "execute_result"
    }
   ],
   "source": [
    "FinalPeakArray"
   ]
  },
  {
   "cell_type": "code",
   "execution_count": 34,
   "metadata": {},
   "outputs": [
    {
     "data": {
      "image/png": "[encoded data removed]",
      "text/plain": [
       "<matplotlib.figure.Figure at 0x2101f14ab00>"
      ]
     },
     "metadata": {},
     "output_type": "display_data"
    }
   ],
   "source": [
    "plt.figure(figsize=(25,7))\n",
    "plt.plot(gdaxArray,label='ETHGDAX',color='b')\n",
    "plt.plot(valleys, gdaxArray[valleys],linestyle='',marker='o',markersize=3,color='black')\n",
    "plt.plot(FinalPeakArray, gdaxArray[FinalPeakArray],linestyle='',marker='o',markersize=3,color='red')\n",
    "\n",
    "plt.title('Price')\n",
    "plt.legend(loc='upper left')\n",
    "plt.show()"
   ]
  },
  {
   "cell_type": "code",
   "execution_count": 319,
   "metadata": {},
   "outputs": [
    {
     "ename": "IndexError",
     "evalue": "list index out of range",
     "traceback": [
      "\u001b[1;31m---------------------------------------------------------------------------\u001b[0m",
      "\u001b[1;31mIndexError\u001b[0m                                Traceback (most recent call last)",
      "\u001b[1;32m<ipython-input-319-8f685cc6f5be>\u001b[0m in \u001b[0;36m<module>\u001b[1;34m()\u001b[0m\n\u001b[0;32m      5\u001b[0m \u001b[1;32mfor\u001b[0m \u001b[0mindex\u001b[0m\u001b[1;33m,\u001b[0m \u001b[0mprice\u001b[0m \u001b[1;32min\u001b[0m \u001b[0menumerate\u001b[0m\u001b[1;33m(\u001b[0m\u001b[0mtestarray\u001b[0m\u001b[1;33m,\u001b[0m \u001b[0mstart\u001b[0m\u001b[1;33m=\u001b[0m\u001b[1;36m1\u001b[0m\u001b[1;33m)\u001b[0m\u001b[1;33m:\u001b[0m\u001b[1;33m\u001b[0m\u001b[0m\n\u001b[0;32m      6\u001b[0m     \u001b[1;31m#print(price, testarray[index-2])\u001b[0m\u001b[1;33m\u001b[0m\u001b[1;33m\u001b[0m\u001b[0m\n\u001b[1;32m----> 7\u001b[1;33m     \u001b[0mprint\u001b[0m\u001b[1;33m(\u001b[0m\u001b[0mtestarray\u001b[0m\u001b[1;33m[\u001b[0m\u001b[0mpeaks\u001b[0m\u001b[1;33m[\u001b[0m\u001b[1;33m-\u001b[0m\u001b[1;36m1\u001b[0m\u001b[1;33m]\u001b[0m\u001b[1;33m]\u001b[0m\u001b[1;33m)\u001b[0m\u001b[1;33m\u001b[0m\u001b[0m\n\u001b[0m\u001b[0;32m      8\u001b[0m     \u001b[1;32mif\u001b[0m \u001b[0mprice\u001b[0m \u001b[1;33m>\u001b[0m \u001b[0mtestarray\u001b[0m\u001b[1;33m[\u001b[0m\u001b[0mindex\u001b[0m\u001b[1;33m-\u001b[0m\u001b[1;36m2\u001b[0m\u001b[1;33m]\u001b[0m\u001b[1;33m:\u001b[0m\u001b[1;33m\u001b[0m\u001b[0m\n\u001b[0;32m      9\u001b[0m         \u001b[0mpeakprice\u001b[0m \u001b[1;33m=\u001b[0m \u001b[0mprice\u001b[0m\u001b[1;33m\u001b[0m\u001b[0m\n",
      "\u001b[1;31mIndexError\u001b[0m: list index out of range"
     ],
     "output_type": "error"
    }
   ],
   "source": [
    "peakprice = 0\n",
    "price = 1\n",
    "peaks = []\n",
    "testarray = [2,2,2,3,4,4,3,2,1,1,2,3]\n",
    "for index, price in enumerate(testarray, start=1):\n",
    "    #print(price, testarray[index-2])\n",
    "    print(testarray[peaks[-1]])\n",
    "    if price > testarray[index-2]:\n",
    "        peakprice = price\n",
    "        peakpos = index\n",
    "    if price == testarray[index-2]:\n",
    "        #if peakprice != (testarray[peaks[-1:]]):\n",
    "        peaks.append(peakpos)\n",
    "\n",
    "#print(\"position {}: {}\".format(peakpos, peak))\n",
    "#peaks\n"
   ]
  },
  {
   "cell_type": "code",
   "execution_count": null,
   "metadata": {
    "collapsed": true
   },
   "outputs": [],
   "source": []
  },
  {
   "cell_type": "code",
   "execution_count": null,
   "metadata": {
    "collapsed": true
   },
   "outputs": [],
   "source": []
  }
 ],
 "metadata": {
  "kernelspec": {
   "display_name": "Python 3",
   "language": "python",
   "name": "python3"
  },
  "language_info": {
   "codemirror_mode": {
    "name": "ipython",
    "version": 3
   },
   "file_extension": ".py",
   "mimetype": "text/x-python",
   "name": "python",
   "nbconvert_exporter": "python",
   "pygments_lexer": "ipython3",
   "version": "3.6.1"
  }
 },
 "nbformat": 4,
 "nbformat_minor": 2
}
