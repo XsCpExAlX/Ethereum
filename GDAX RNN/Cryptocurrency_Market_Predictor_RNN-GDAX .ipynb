{
 "cells": [
  {
   "cell_type": "markdown",
   "metadata": {},
   "source": [
    "# Cryptocurrency Market Predictor - Recurrent Neural Network\n",
    "\n",
    "Predicting BTCUSD market"
   ]
  },
  {
   "cell_type": "code",
   "execution_count": 1,
   "metadata": {
    "collapsed": true
   },
   "outputs": [],
   "source": [
    "import tensorflow as tf\n",
    "import pandas as pd \n",
    "import numpy as np\n",
    "import matplotlib.pyplot as plt\n",
    "%matplotlib inline"
   ]
  },
  {
   "cell_type": "markdown",
   "metadata": {},
   "source": [
    "## Read data"
   ]
  },
  {
   "cell_type": "code",
   "execution_count": 2,
   "metadata": {},
   "outputs": [
    {
     "data": {
      "text/html": [
       "<div>\n",
       "<style>\n",
       "    .dataframe thead tr:only-child th {\n",
       "        text-align: right;\n",
       "    }\n",
       "\n",
       "    .dataframe thead th {\n",
       "        text-align: left;\n",
       "    }\n",
       "\n",
       "    .dataframe tbody tr th {\n",
       "        vertical-align: top;\n",
       "    }\n",
       "</style>\n",
       "<table border=\"1\" class=\"dataframe\">\n",
       "  <thead>\n",
       "    <tr style=\"text-align: right;\">\n",
       "      <th></th>\n",
       "      <th>Price</th>\n",
       "      <th>PriceTarget</th>\n",
       "      <th>MACD</th>\n",
       "      <th>TradePrice</th>\n",
       "      <th>trade_volume</th>\n",
       "      <th>b1</th>\n",
       "      <th>a1</th>\n",
       "      <th>bq1</th>\n",
       "      <th>aq1</th>\n",
       "      <th>Spread</th>\n",
       "    </tr>\n",
       "  </thead>\n",
       "  <tbody>\n",
       "    <tr>\n",
       "      <th>4998</th>\n",
       "      <td>291.995</td>\n",
       "      <td>291.995</td>\n",
       "      <td>0.018774</td>\n",
       "      <td>291.99</td>\n",
       "      <td>5.799337</td>\n",
       "      <td>291.99</td>\n",
       "      <td>292.0</td>\n",
       "      <td>110.306063</td>\n",
       "      <td>27.558405</td>\n",
       "      <td>0.01</td>\n",
       "    </tr>\n",
       "    <tr>\n",
       "      <th>4999</th>\n",
       "      <td>291.995</td>\n",
       "      <td>291.995</td>\n",
       "      <td>0.010257</td>\n",
       "      <td>291.99</td>\n",
       "      <td>5.799337</td>\n",
       "      <td>291.99</td>\n",
       "      <td>292.0</td>\n",
       "      <td>581.240510</td>\n",
       "      <td>27.558405</td>\n",
       "      <td>0.01</td>\n",
       "    </tr>\n",
       "  </tbody>\n",
       "</table>\n",
       "</div>"
      ],
      "text/plain": [
       "        Price  PriceTarget      MACD  TradePrice  trade_volume      b1     a1  \\\n",
       "4998  291.995      291.995  0.018774      291.99      5.799337  291.99  292.0   \n",
       "4999  291.995      291.995  0.010257      291.99      5.799337  291.99  292.0   \n",
       "\n",
       "             bq1        aq1  Spread  \n",
       "4998  110.306063  27.558405    0.01  \n",
       "4999  581.240510  27.558405    0.01  "
      ]
     },
     "execution_count": 2,
     "metadata": {},
     "output_type": "execute_result"
    }
   ],
   "source": [
    "dataset = pd.read_csv('ETHUSD_TechnicalIndicators.csv', nrows=5000)\n",
    "dataset.tail(2)"
   ]
  },
  {
   "cell_type": "markdown",
   "metadata": {},
   "source": [
    "#### Normalize"
   ]
  },
  {
   "cell_type": "code",
   "execution_count": 3,
   "metadata": {},
   "outputs": [
    {
     "data": {
      "text/html": [
       "<div>\n",
       "<style>\n",
       "    .dataframe thead tr:only-child th {\n",
       "        text-align: right;\n",
       "    }\n",
       "\n",
       "    .dataframe thead th {\n",
       "        text-align: left;\n",
       "    }\n",
       "\n",
       "    .dataframe tbody tr th {\n",
       "        vertical-align: top;\n",
       "    }\n",
       "</style>\n",
       "<table border=\"1\" class=\"dataframe\">\n",
       "  <thead>\n",
       "    <tr style=\"text-align: right;\">\n",
       "      <th></th>\n",
       "      <th>Price</th>\n",
       "      <th>PriceTarget</th>\n",
       "      <th>MACD</th>\n",
       "      <th>TradePrice</th>\n",
       "      <th>trade_volume</th>\n",
       "      <th>b1</th>\n",
       "      <th>a1</th>\n",
       "      <th>bq1</th>\n",
       "      <th>aq1</th>\n",
       "      <th>Spread</th>\n",
       "    </tr>\n",
       "  </thead>\n",
       "  <tbody>\n",
       "    <tr>\n",
       "      <th>0</th>\n",
       "      <td>-0.383638</td>\n",
       "      <td>-0.356395</td>\n",
       "      <td>-0.000954</td>\n",
       "      <td>-0.989820</td>\n",
       "      <td>-0.017118</td>\n",
       "      <td>-0.397007</td>\n",
       "      <td>-0.369611</td>\n",
       "      <td>-0.060744</td>\n",
       "      <td>0.241710</td>\n",
       "      <td>0.176219</td>\n",
       "    </tr>\n",
       "    <tr>\n",
       "      <th>1</th>\n",
       "      <td>-0.382809</td>\n",
       "      <td>-0.359712</td>\n",
       "      <td>-0.000779</td>\n",
       "      <td>-0.989820</td>\n",
       "      <td>-0.017118</td>\n",
       "      <td>-0.398663</td>\n",
       "      <td>-0.366294</td>\n",
       "      <td>-0.013768</td>\n",
       "      <td>-0.089702</td>\n",
       "      <td>0.207469</td>\n",
       "    </tr>\n",
       "    <tr>\n",
       "      <th>2</th>\n",
       "      <td>-0.382809</td>\n",
       "      <td>-0.359712</td>\n",
       "      <td>-0.000779</td>\n",
       "      <td>-0.006949</td>\n",
       "      <td>-0.016206</td>\n",
       "      <td>-0.398663</td>\n",
       "      <td>-0.366294</td>\n",
       "      <td>-0.013768</td>\n",
       "      <td>-0.089702</td>\n",
       "      <td>0.207469</td>\n",
       "    </tr>\n",
       "  </tbody>\n",
       "</table>\n",
       "</div>"
      ],
      "text/plain": [
       "      Price  PriceTarget      MACD  TradePrice  trade_volume        b1  \\\n",
       "0 -0.383638    -0.356395 -0.000954   -0.989820     -0.017118 -0.397007   \n",
       "1 -0.382809    -0.359712 -0.000779   -0.989820     -0.017118 -0.398663   \n",
       "2 -0.382809    -0.359712 -0.000779   -0.006949     -0.016206 -0.398663   \n",
       "\n",
       "         a1       bq1       aq1    Spread  \n",
       "0 -0.369611 -0.060744  0.241710  0.176219  \n",
       "1 -0.366294 -0.013768 -0.089702  0.207469  \n",
       "2 -0.366294 -0.013768 -0.089702  0.207469  "
      ]
     },
     "execution_count": 3,
     "metadata": {},
     "output_type": "execute_result"
    }
   ],
   "source": [
    "datasetNorm = (dataset - dataset.mean()) / (dataset.max() - dataset.min())\n",
    "datasetNorm.head(3)"
   ]
  },
  {
   "cell_type": "markdown",
   "metadata": {},
   "source": [
    "## Hyperparams"
   ]
  },
  {
   "cell_type": "code",
   "execution_count": 4,
   "metadata": {},
   "outputs": [
    {
     "name": "stdout",
     "output_type": "stream",
     "text": [
      "The total series length is: 5000\n",
      "The current configuration gives us 500 batches of 1 observations each one looking 10 steps in the past\n"
     ]
    }
   ],
   "source": [
    "num_epochs = 100\n",
    "\n",
    "batch_size = 1\n",
    "\n",
    "total_series_length = len(dataset.index)\n",
    "\n",
    "truncated_backprop_length = 10 #The size of the sequence\n",
    "\n",
    "state_size = 25 #The number of neurons\n",
    "\n",
    "num_features = 4\n",
    "num_classes = 1 #[1,0]\n",
    "\n",
    "num_batches = total_series_length//batch_size//truncated_backprop_length\n",
    "\n",
    "min_test_size = 1000\n",
    "\n",
    "print('The total series length is: %d' %total_series_length)\n",
    "print('The current configuration gives us %d batches of %d observations each one looking %d steps in the past' \n",
    "      %(num_batches,batch_size,truncated_backprop_length))"
   ]
  },
  {
   "cell_type": "markdown",
   "metadata": {},
   "source": [
    "## Train-Test split"
   ]
  },
  {
   "cell_type": "code",
   "execution_count": 5,
   "metadata": {
    "collapsed": true
   },
   "outputs": [],
   "source": [
    "datasetTrain = datasetNorm[dataset.index < num_batches*batch_size*truncated_backprop_length]\n",
    "\n",
    "\n",
    "for i in range(min_test_size,len(datasetNorm.index)):\n",
    "    \n",
    "    if(i % truncated_backprop_length*batch_size == 0):\n",
    "        test_first_idx = len(datasetNorm.index)-i\n",
    "        break\n",
    "\n",
    "datasetTest =  datasetNorm[dataset.index >= test_first_idx]"
   ]
  },
  {
   "cell_type": "code",
   "execution_count": 6,
   "metadata": {},
   "outputs": [
    {
     "data": {
      "text/html": [
       "<div>\n",
       "<style>\n",
       "    .dataframe thead tr:only-child th {\n",
       "        text-align: right;\n",
       "    }\n",
       "\n",
       "    .dataframe thead th {\n",
       "        text-align: left;\n",
       "    }\n",
       "\n",
       "    .dataframe tbody tr th {\n",
       "        vertical-align: top;\n",
       "    }\n",
       "</style>\n",
       "<table border=\"1\" class=\"dataframe\">\n",
       "  <thead>\n",
       "    <tr style=\"text-align: right;\">\n",
       "      <th></th>\n",
       "      <th>Price</th>\n",
       "      <th>PriceTarget</th>\n",
       "      <th>MACD</th>\n",
       "      <th>TradePrice</th>\n",
       "      <th>trade_volume</th>\n",
       "      <th>b1</th>\n",
       "      <th>a1</th>\n",
       "      <th>bq1</th>\n",
       "      <th>aq1</th>\n",
       "      <th>Spread</th>\n",
       "    </tr>\n",
       "  </thead>\n",
       "  <tbody>\n",
       "    <tr>\n",
       "      <th>0</th>\n",
       "      <td>-0.383638</td>\n",
       "      <td>-0.356395</td>\n",
       "      <td>-0.000954</td>\n",
       "      <td>-0.98982</td>\n",
       "      <td>-0.017118</td>\n",
       "      <td>-0.397007</td>\n",
       "      <td>-0.369611</td>\n",
       "      <td>-0.060744</td>\n",
       "      <td>0.241710</td>\n",
       "      <td>0.176219</td>\n",
       "    </tr>\n",
       "    <tr>\n",
       "      <th>1</th>\n",
       "      <td>-0.382809</td>\n",
       "      <td>-0.359712</td>\n",
       "      <td>-0.000779</td>\n",
       "      <td>-0.98982</td>\n",
       "      <td>-0.017118</td>\n",
       "      <td>-0.398663</td>\n",
       "      <td>-0.366294</td>\n",
       "      <td>-0.013768</td>\n",
       "      <td>-0.089702</td>\n",
       "      <td>0.207469</td>\n",
       "    </tr>\n",
       "  </tbody>\n",
       "</table>\n",
       "</div>"
      ],
      "text/plain": [
       "      Price  PriceTarget      MACD  TradePrice  trade_volume        b1  \\\n",
       "0 -0.383638    -0.356395 -0.000954    -0.98982     -0.017118 -0.397007   \n",
       "1 -0.382809    -0.359712 -0.000779    -0.98982     -0.017118 -0.398663   \n",
       "\n",
       "         a1       bq1       aq1    Spread  \n",
       "0 -0.369611 -0.060744  0.241710  0.176219  \n",
       "1 -0.366294 -0.013768 -0.089702  0.207469  "
      ]
     },
     "execution_count": 6,
     "metadata": {},
     "output_type": "execute_result"
    }
   ],
   "source": [
    "datasetTrain.head(2)"
   ]
  },
  {
   "cell_type": "code",
   "execution_count": 7,
   "metadata": {
    "scrolled": true
   },
   "outputs": [
    {
     "data": {
      "text/html": [
       "<div>\n",
       "<style>\n",
       "    .dataframe thead tr:only-child th {\n",
       "        text-align: right;\n",
       "    }\n",
       "\n",
       "    .dataframe thead th {\n",
       "        text-align: left;\n",
       "    }\n",
       "\n",
       "    .dataframe tbody tr th {\n",
       "        vertical-align: top;\n",
       "    }\n",
       "</style>\n",
       "<table border=\"1\" class=\"dataframe\">\n",
       "  <thead>\n",
       "    <tr style=\"text-align: right;\">\n",
       "      <th></th>\n",
       "      <th>Price</th>\n",
       "      <th>PriceTarget</th>\n",
       "      <th>MACD</th>\n",
       "      <th>TradePrice</th>\n",
       "      <th>trade_volume</th>\n",
       "      <th>b1</th>\n",
       "      <th>a1</th>\n",
       "      <th>bq1</th>\n",
       "      <th>aq1</th>\n",
       "      <th>Spread</th>\n",
       "    </tr>\n",
       "  </thead>\n",
       "  <tbody>\n",
       "    <tr>\n",
       "      <th>4000</th>\n",
       "      <td>0.115533</td>\n",
       "      <td>0.129508</td>\n",
       "      <td>0.067216</td>\n",
       "      <td>0.003321</td>\n",
       "      <td>-0.017118</td>\n",
       "      <td>0.094715</td>\n",
       "      <td>0.136194</td>\n",
       "      <td>-0.045321</td>\n",
       "      <td>-0.094397</td>\n",
       "      <td>0.259552</td>\n",
       "    </tr>\n",
       "    <tr>\n",
       "      <th>4001</th>\n",
       "      <td>0.115533</td>\n",
       "      <td>0.129508</td>\n",
       "      <td>0.061548</td>\n",
       "      <td>0.003321</td>\n",
       "      <td>-0.017107</td>\n",
       "      <td>0.094715</td>\n",
       "      <td>0.136194</td>\n",
       "      <td>-0.045321</td>\n",
       "      <td>-0.094397</td>\n",
       "      <td>0.259552</td>\n",
       "    </tr>\n",
       "  </tbody>\n",
       "</table>\n",
       "</div>"
      ],
      "text/plain": [
       "         Price  PriceTarget      MACD  TradePrice  trade_volume        b1  \\\n",
       "4000  0.115533     0.129508  0.067216    0.003321     -0.017118  0.094715   \n",
       "4001  0.115533     0.129508  0.061548    0.003321     -0.017107  0.094715   \n",
       "\n",
       "            a1       bq1       aq1    Spread  \n",
       "4000  0.136194 -0.045321 -0.094397  0.259552  \n",
       "4001  0.136194 -0.045321 -0.094397  0.259552  "
      ]
     },
     "execution_count": 7,
     "metadata": {},
     "output_type": "execute_result"
    }
   ],
   "source": [
    "datasetTest.head(2)"
   ]
  },
  {
   "cell_type": "code",
   "execution_count": 8,
   "metadata": {
    "collapsed": true
   },
   "outputs": [],
   "source": [
    "#Pick appropriate columns to train\n",
    "xTrain = datasetTrain[['Price','b1','a1','Spread']].as_matrix()\n",
    "yTrain = datasetTrain['PriceTarget'].as_matrix()"
   ]
  },
  {
   "cell_type": "code",
   "execution_count": 9,
   "metadata": {},
   "outputs": [
    {
     "name": "stdout",
     "output_type": "stream",
     "text": [
      "[[-0.38363798 -0.39700695 -0.36961061  0.17621875]\n",
      " [-0.38280879 -0.39866258 -0.36629386  0.20746875]\n",
      " [-0.38280879 -0.39866258 -0.36629386  0.20746875]] \n",
      " [-0.35639536 -0.35971211 -0.35971211]\n"
     ]
    }
   ],
   "source": [
    "print(xTrain[0:3],'\\n',yTrain[0:3])"
   ]
  },
  {
   "cell_type": "code",
   "execution_count": 10,
   "metadata": {
    "collapsed": true
   },
   "outputs": [],
   "source": [
    "#Pick appropriate columns to test\n",
    "xTest = datasetTest[['Price','b1','a1','Spread']].as_matrix()\n",
    "yTest = datasetTest['PriceTarget'].as_matrix()"
   ]
  },
  {
   "cell_type": "code",
   "execution_count": 11,
   "metadata": {},
   "outputs": [
    {
     "name": "stdout",
     "output_type": "stream",
     "text": [
      "[[ 0.11553284  0.0947149   0.1361937   0.25955208]\n",
      " [ 0.11553284  0.0947149   0.1361937   0.25955208]\n",
      " [ 0.11719121  0.09802616  0.1361937   0.23871875]] \n",
      " [ 0.12950846  0.12950846  0.12867927]\n"
     ]
    }
   ],
   "source": [
    "print(xTest[0:3],'\\n',yTest[0:3])"
   ]
  },
  {
   "cell_type": "markdown",
   "metadata": {},
   "source": [
    "## Visualize starting price data"
   ]
  },
  {
   "cell_type": "code",
   "execution_count": 12,
   "metadata": {
    "scrolled": true
   },
   "outputs": [
    {
     "data": {
      "image/png": "[encoded data removed]",
      "text/plain": [
       "<matplotlib.figure.Figure at 0x25f308a1748>"
      ]
     },
     "metadata": {},
     "output_type": "display_data"
    },
    {
     "data": {
      "image/png": "[encoded data removed]",
      "text/plain": [
       "<matplotlib.figure.Figure at 0x25f2a76b438>"
      ]
     },
     "metadata": {},
     "output_type": "display_data"
    }
   ],
   "source": [
    "plt.figure(figsize=(25,5))\n",
    "plt.plot(xTrain[:,0])\n",
    "plt.title('Train (' +str(len(xTrain))+' data points)')\n",
    "plt.show()\n",
    "plt.figure(figsize=(10,3))\n",
    "plt.plot(xTest[:,0])\n",
    "plt.title('Test (' +str(len(xTest))+' data points)')\n",
    "plt.show()"
   ]
  },
  {
   "cell_type": "markdown",
   "metadata": {},
   "source": [
    "## Placeholders"
   ]
  },
  {
   "cell_type": "code",
   "execution_count": 13,
   "metadata": {
    "collapsed": true
   },
   "outputs": [],
   "source": [
    "batchX_placeholder = tf.placeholder(dtype=tf.float32,shape=[None,truncated_backprop_length,num_features],name='data_ph')\n",
    "batchY_placeholder = tf.placeholder(dtype=tf.float32,shape=[None,truncated_backprop_length,num_classes],name='target_ph')"
   ]
  },
  {
   "cell_type": "markdown",
   "metadata": {},
   "source": [
    "## Weights and biases\n",
    "Because is a 3 layer net:\n",
    "1. Input\n",
    "2. Hidden Recurrent layer\n",
    "3. Output\n",
    "\n",
    "We need 2 pairs of W and b"
   ]
  },
  {
   "cell_type": "code",
   "execution_count": 14,
   "metadata": {
    "collapsed": true
   },
   "outputs": [],
   "source": [
    "W2 = tf.Variable(initial_value=np.random.rand(state_size,num_classes),dtype=tf.float32)\n",
    "b2 = tf.Variable(initial_value=np.random.rand(1,num_classes),dtype=tf.float32)"
   ]
  },
  {
   "cell_type": "markdown",
   "metadata": {},
   "source": [
    "Unpack"
   ]
  },
  {
   "cell_type": "code",
   "execution_count": 15,
   "metadata": {
    "collapsed": true
   },
   "outputs": [],
   "source": [
    "labels_series = tf.unstack(batchY_placeholder, axis=1)"
   ]
  },
  {
   "cell_type": "markdown",
   "metadata": {},
   "source": [
    "## Forward pass - Unroll the cell\n",
    "\n",
    "Input to recurrent"
   ]
  },
  {
   "cell_type": "code",
   "execution_count": 16,
   "metadata": {
    "collapsed": true
   },
   "outputs": [],
   "source": [
    "cell = tf.contrib.rnn.BasicRNNCell(num_units=state_size)\n",
    "\n",
    "states_series, current_state = tf.nn.dynamic_rnn(cell=cell,inputs=batchX_placeholder,dtype=tf.float32)"
   ]
  },
  {
   "cell_type": "code",
   "execution_count": 17,
   "metadata": {
    "collapsed": true
   },
   "outputs": [],
   "source": [
    "states_series = tf.transpose(states_series,[1,0,2])"
   ]
  },
  {
   "cell_type": "markdown",
   "metadata": {},
   "source": [
    "## Backward pass - Output"
   ]
  },
  {
   "cell_type": "code",
   "execution_count": 18,
   "metadata": {
    "collapsed": true
   },
   "outputs": [],
   "source": [
    "last_state = tf.gather(params=states_series,indices=states_series.get_shape()[0]-1)\n",
    "last_label = tf.gather(params=labels_series,indices=len(labels_series)-1)"
   ]
  },
  {
   "cell_type": "markdown",
   "metadata": {},
   "source": [
    "## Weights and bias out"
   ]
  },
  {
   "cell_type": "code",
   "execution_count": 19,
   "metadata": {
    "collapsed": true
   },
   "outputs": [],
   "source": [
    "weight = tf.Variable(tf.truncated_normal([state_size,num_classes]))\n",
    "bias = tf.Variable(tf.constant(0.1,shape=[num_classes]))"
   ]
  },
  {
   "cell_type": "markdown",
   "metadata": {},
   "source": [
    "## Prediction, Loss & Optimizer"
   ]
  },
  {
   "cell_type": "code",
   "execution_count": 20,
   "metadata": {},
   "outputs": [
    {
     "data": {
      "text/plain": [
       "<tf.Tensor 'add:0' shape=(?, 1) dtype=float32>"
      ]
     },
     "execution_count": 20,
     "metadata": {},
     "output_type": "execute_result"
    }
   ],
   "source": [
    "prediction = tf.matmul(last_state,weight) + bias\n",
    "prediction"
   ]
  },
  {
   "cell_type": "code",
   "execution_count": 21,
   "metadata": {},
   "outputs": [
    {
     "name": "stderr",
     "output_type": "stream",
     "text": [
      "C:\\Users\\Jason\\Anaconda3\\lib\\site-packages\\tensorflow\\python\\ops\\gradients_impl.py:95: UserWarning: Converting sparse IndexedSlices to a dense Tensor of unknown shape. This may consume a large amount of memory.\n",
      "  \"Converting sparse IndexedSlices to a dense Tensor of unknown shape. \"\n"
     ]
    }
   ],
   "source": [
    "loss = tf.reduce_mean(tf.squared_difference(last_label,prediction))\n",
    "\n",
    "train_step = tf.train.AdamOptimizer(learning_rate=0.001).minimize(loss)"
   ]
  },
  {
   "cell_type": "code",
   "execution_count": 22,
   "metadata": {},
   "outputs": [
    {
     "name": "stdout",
     "output_type": "stream",
     "text": [
      "Epoch 0\n",
      "Step 0 - Loss: 0.193065\n",
      "Step 200 - Loss: 0.005271\n",
      "Step 400 - Loss: 0.000022\n",
      "Epoch 1\n",
      "Step 0 - Loss: 0.014148\n",
      "Step 200 - Loss: 0.000015\n",
      "Step 400 - Loss: 0.000485\n",
      "Epoch 2\n",
      "Step 0 - Loss: 0.003822\n",
      "Step 200 - Loss: 0.000055\n",
      "Step 400 - Loss: 0.000017\n",
      "Epoch 3\n",
      "Step 0 - Loss: 0.007135\n",
      "Step 200 - Loss: 0.000005\n",
      "Step 400 - Loss: 0.000534\n",
      "Epoch 4\n",
      "Step 0 - Loss: 0.008760\n",
      "Step 200 - Loss: 0.000001\n",
      "Step 400 - Loss: 0.001255\n",
      "Epoch 5\n",
      "Step 0 - Loss: 0.010005\n",
      "Step 200 - Loss: 0.000001\n",
      "Step 400 - Loss: 0.001368\n",
      "Epoch 6\n",
      "Step 0 - Loss: 0.011551\n",
      "Step 200 - Loss: 0.000006\n",
      "Step 400 - Loss: 0.001420\n",
      "Epoch 7\n",
      "Step 0 - Loss: 0.012583\n",
      "Step 200 - Loss: 0.000014\n",
      "Step 400 - Loss: 0.001405\n",
      "Epoch 8\n",
      "Step 0 - Loss: 0.012791\n",
      "Step 200 - Loss: 0.000016\n",
      "Step 400 - Loss: 0.001307\n",
      "Epoch 9\n",
      "Step 0 - Loss: 0.012500\n",
      "Step 200 - Loss: 0.000010\n",
      "Step 400 - Loss: 0.001158\n",
      "Epoch 10\n",
      "Step 0 - Loss: 0.012035\n",
      "Step 200 - Loss: 0.000002\n",
      "Step 400 - Loss: 0.000974\n",
      "Epoch 11\n",
      "Step 0 - Loss: 0.011514\n",
      "Step 200 - Loss: 0.000001\n",
      "Step 400 - Loss: 0.000775\n",
      "Epoch 12\n",
      "Step 0 - Loss: 0.011003\n",
      "Step 200 - Loss: 0.000011\n",
      "Step 400 - Loss: 0.000588\n",
      "Epoch 13\n",
      "Step 0 - Loss: 0.010484\n",
      "Step 200 - Loss: 0.000028\n",
      "Step 400 - Loss: 0.000416\n",
      "Epoch 14\n",
      "Step 0 - Loss: 0.009775\n",
      "Step 200 - Loss: 0.000049\n",
      "Step 400 - Loss: 0.000288\n",
      "Epoch 15\n",
      "Step 0 - Loss: 0.008788\n",
      "Step 200 - Loss: 0.000100\n",
      "Step 400 - Loss: 0.000216\n",
      "Epoch 16\n",
      "Step 0 - Loss: 0.007819\n",
      "Step 200 - Loss: 0.000187\n",
      "Step 400 - Loss: 0.000179\n",
      "Epoch 17\n",
      "Step 0 - Loss: 0.007169\n",
      "Step 200 - Loss: 0.000252\n",
      "Step 400 - Loss: 0.000178\n",
      "Epoch 18\n",
      "Step 0 - Loss: 0.007361\n",
      "Step 200 - Loss: 0.000216\n",
      "Step 400 - Loss: 0.000228\n",
      "Epoch 19\n",
      "Step 0 - Loss: 0.007529\n",
      "Step 200 - Loss: 0.000332\n",
      "Step 400 - Loss: 0.000216\n",
      "Epoch 20\n",
      "Step 0 - Loss: 0.006737\n",
      "Step 200 - Loss: 0.000392\n",
      "Step 400 - Loss: 0.000213\n",
      "Epoch 21\n",
      "Step 0 - Loss: 0.006097\n",
      "Step 200 - Loss: 0.000452\n",
      "Step 400 - Loss: 0.000155\n",
      "Epoch 22\n",
      "Step 0 - Loss: 0.005375\n",
      "Step 200 - Loss: 0.000473\n",
      "Step 400 - Loss: 0.000115\n",
      "Epoch 23\n",
      "Step 0 - Loss: 0.004855\n",
      "Step 200 - Loss: 0.000469\n",
      "Step 400 - Loss: 0.000093\n",
      "Epoch 24\n",
      "Step 0 - Loss: 0.004569\n",
      "Step 200 - Loss: 0.000466\n",
      "Step 400 - Loss: 0.000084\n",
      "Epoch 25\n",
      "Step 0 - Loss: 0.004627\n",
      "Step 200 - Loss: 0.000469\n",
      "Step 400 - Loss: 0.000063\n",
      "Epoch 26\n",
      "Step 0 - Loss: 0.004597\n",
      "Step 200 - Loss: 0.000449\n",
      "Step 400 - Loss: 0.000047\n",
      "Epoch 27\n",
      "Step 0 - Loss: 0.004554\n",
      "Step 200 - Loss: 0.000422\n",
      "Step 400 - Loss: 0.000037\n",
      "Epoch 28\n",
      "Step 0 - Loss: 0.004616\n",
      "Step 200 - Loss: 0.000416\n",
      "Step 400 - Loss: 0.000033\n",
      "Epoch 29\n",
      "Step 0 - Loss: 0.004777\n",
      "Step 200 - Loss: 0.000417\n",
      "Step 400 - Loss: 0.000040\n",
      "Epoch 30\n",
      "Step 0 - Loss: 0.004591\n",
      "Step 200 - Loss: 0.000430\n",
      "Step 400 - Loss: 0.000042\n",
      "Epoch 31\n",
      "Step 0 - Loss: 0.004072\n",
      "Step 200 - Loss: 0.000463\n",
      "Step 400 - Loss: 0.000037\n",
      "Epoch 32\n",
      "Step 0 - Loss: 0.003556\n",
      "Step 200 - Loss: 0.000515\n",
      "Step 400 - Loss: 0.000021\n",
      "Epoch 33\n",
      "Step 0 - Loss: 0.003196\n",
      "Step 200 - Loss: 0.000566\n",
      "Step 400 - Loss: 0.000010\n",
      "Epoch 34\n",
      "Step 0 - Loss: 0.003059\n",
      "Step 200 - Loss: 0.000572\n",
      "Step 400 - Loss: 0.000036\n",
      "Epoch 35\n",
      "Step 0 - Loss: 0.003179\n",
      "Step 200 - Loss: 0.000707\n",
      "Step 400 - Loss: 0.000032\n",
      "Epoch 36\n",
      "Step 0 - Loss: 0.003233\n",
      "Step 200 - Loss: 0.000390\n",
      "Step 400 - Loss: 0.000181\n",
      "Epoch 37\n",
      "Step 0 - Loss: 0.002988\n",
      "Step 200 - Loss: 0.000756\n",
      "Step 400 - Loss: 0.000068\n",
      "Epoch 38\n",
      "Step 0 - Loss: 0.003201\n",
      "Step 200 - Loss: 0.000354\n",
      "Step 400 - Loss: 0.000088\n",
      "Epoch 39\n",
      "Step 0 - Loss: 0.003464\n",
      "Step 200 - Loss: 0.000515\n",
      "Step 400 - Loss: 0.000072\n",
      "Epoch 40\n",
      "Step 0 - Loss: 0.002863\n",
      "Step 200 - Loss: 0.000485\n",
      "Step 400 - Loss: 0.000080\n",
      "Epoch 41\n",
      "Step 0 - Loss: 0.002797\n",
      "Step 200 - Loss: 0.000378\n",
      "Step 400 - Loss: 0.000114\n",
      "Epoch 42\n",
      "Step 0 - Loss: 0.002763\n",
      "Step 200 - Loss: 0.000524\n",
      "Step 400 - Loss: 0.000083\n",
      "Epoch 43\n",
      "Step 0 - Loss: 0.002601\n",
      "Step 200 - Loss: 0.000572\n",
      "Step 400 - Loss: 0.000084\n",
      "Epoch 44\n",
      "Step 0 - Loss: 0.001824\n",
      "Step 200 - Loss: 0.000741\n",
      "Step 400 - Loss: 0.000090\n",
      "Epoch 45\n",
      "Step 0 - Loss: 0.001580\n",
      "Step 200 - Loss: 0.000610\n",
      "Step 400 - Loss: 0.000066\n",
      "Epoch 46\n",
      "Step 0 - Loss: 0.001670\n",
      "Step 200 - Loss: 0.000575\n",
      "Step 400 - Loss: 0.000065\n",
      "Epoch 47\n",
      "Step 0 - Loss: 0.001393\n",
      "Step 200 - Loss: 0.000608\n",
      "Step 400 - Loss: 0.000046\n",
      "Epoch 48\n",
      "Step 0 - Loss: 0.001650\n",
      "Step 200 - Loss: 0.000704\n",
      "Step 400 - Loss: 0.000037\n",
      "Epoch 49\n",
      "Step 0 - Loss: 0.001478\n",
      "Step 200 - Loss: 0.000729\n",
      "Step 400 - Loss: 0.000037\n",
      "Epoch 50\n",
      "Step 0 - Loss: 0.001382\n",
      "Step 200 - Loss: 0.000536\n",
      "Step 400 - Loss: 0.000031\n",
      "Epoch 51\n",
      "Step 0 - Loss: 0.001846\n",
      "Step 200 - Loss: 0.000623\n",
      "Step 400 - Loss: 0.000020\n",
      "Epoch 52\n",
      "Step 0 - Loss: 0.001205\n",
      "Step 200 - Loss: 0.000652\n",
      "Step 400 - Loss: 0.000016\n",
      "Epoch 53\n",
      "Step 0 - Loss: 0.001034\n",
      "Step 200 - Loss: 0.000566\n",
      "Step 400 - Loss: 0.000010\n",
      "Epoch 54\n",
      "Step 0 - Loss: 0.001053\n",
      "Step 200 - Loss: 0.000691\n",
      "Step 400 - Loss: 0.000013\n",
      "Epoch 55\n",
      "Step 0 - Loss: 0.001067\n",
      "Step 200 - Loss: 0.000672\n",
      "Step 400 - Loss: 0.000009\n",
      "Epoch 56\n",
      "Step 0 - Loss: 0.000987\n",
      "Step 200 - Loss: 0.000623\n",
      "Step 400 - Loss: 0.000004\n",
      "Epoch 57\n",
      "Step 0 - Loss: 0.000970\n",
      "Step 200 - Loss: 0.000632\n",
      "Step 400 - Loss: 0.000005\n",
      "Epoch 58\n",
      "Step 0 - Loss: 0.000861\n",
      "Step 200 - Loss: 0.000523\n",
      "Step 400 - Loss: 0.000002\n",
      "Epoch 59\n",
      "Step 0 - Loss: 0.000767\n",
      "Step 200 - Loss: 0.000507\n",
      "Step 400 - Loss: 0.000001\n",
      "Epoch 60\n",
      "Step 0 - Loss: 0.000910\n",
      "Step 200 - Loss: 0.000481\n",
      "Step 400 - Loss: 0.000004\n",
      "Epoch 61\n",
      "Step 0 - Loss: 0.000712\n",
      "Step 200 - Loss: 0.000552\n",
      "Step 400 - Loss: 0.000004\n",
      "Epoch 62\n",
      "Step 0 - Loss: 0.000543\n",
      "Step 200 - Loss: 0.000563\n",
      "Step 400 - Loss: 0.000005\n",
      "Epoch 63\n",
      "Step 0 - Loss: 0.000641\n",
      "Step 200 - Loss: 0.000609\n",
      "Step 400 - Loss: 0.000002\n",
      "Epoch 64\n",
      "Step 0 - Loss: 0.000692\n",
      "Step 200 - Loss: 0.000251\n",
      "Step 400 - Loss: 0.000004\n",
      "Epoch 65\n",
      "Step 0 - Loss: 0.000556\n",
      "Step 200 - Loss: 0.000395\n",
      "Step 400 - Loss: 0.000002\n",
      "Epoch 66\n",
      "Step 0 - Loss: 0.000374\n",
      "Step 200 - Loss: 0.000517\n",
      "Step 400 - Loss: 0.000004\n",
      "Epoch 67\n",
      "Step 0 - Loss: 0.000459\n",
      "Step 200 - Loss: 0.000567\n",
      "Step 400 - Loss: 0.000001\n",
      "Epoch 68\n",
      "Step 0 - Loss: 0.000678\n",
      "Step 200 - Loss: 0.000535\n",
      "Step 400 - Loss: 0.000002\n",
      "Epoch 69\n",
      "Step 0 - Loss: 0.000787\n",
      "Step 200 - Loss: 0.000572\n",
      "Step 400 - Loss: 0.000003\n",
      "Epoch 70\n",
      "Step 0 - Loss: 0.000324\n",
      "Step 200 - Loss: 0.000548\n",
      "Step 400 - Loss: 0.000007\n",
      "Epoch 71\n",
      "Step 0 - Loss: 0.000312\n",
      "Step 200 - Loss: 0.000576\n",
      "Step 400 - Loss: 0.000005\n",
      "Epoch 72\n",
      "Step 0 - Loss: 0.000335\n",
      "Step 200 - Loss: 0.000560\n",
      "Step 400 - Loss: 0.000002\n",
      "Epoch 73\n",
      "Step 0 - Loss: 0.000552\n",
      "Step 200 - Loss: 0.000525\n",
      "Step 400 - Loss: 0.000005\n",
      "Epoch 74\n",
      "Step 0 - Loss: 0.000330\n",
      "Step 200 - Loss: 0.000535\n",
      "Step 400 - Loss: 0.000001\n",
      "Epoch 75\n",
      "Step 0 - Loss: 0.000460\n",
      "Step 200 - Loss: 0.000511\n",
      "Step 400 - Loss: 0.000003\n",
      "Epoch 76\n",
      "Step 0 - Loss: 0.000246\n",
      "Step 200 - Loss: 0.000489\n",
      "Step 400 - Loss: 0.000003\n",
      "Epoch 77\n",
      "Step 0 - Loss: 0.000325\n",
      "Step 200 - Loss: 0.000458\n",
      "Step 400 - Loss: 0.000006\n",
      "Epoch 78\n",
      "Step 0 - Loss: 0.000238\n",
      "Step 200 - Loss: 0.000504\n",
      "Step 400 - Loss: 0.000008\n",
      "Epoch 79\n",
      "Step 0 - Loss: 0.000251\n",
      "Step 200 - Loss: 0.000540\n",
      "Step 400 - Loss: 0.000004\n",
      "Epoch 80\n",
      "Step 0 - Loss: 0.000220\n",
      "Step 200 - Loss: 0.000511\n",
      "Step 400 - Loss: 0.000005\n",
      "Epoch 81\n",
      "Step 0 - Loss: 0.000265\n",
      "Step 200 - Loss: 0.000472\n",
      "Step 400 - Loss: 0.000004\n",
      "Epoch 82\n",
      "Step 0 - Loss: 0.000212\n",
      "Step 200 - Loss: 0.000491\n",
      "Step 400 - Loss: 0.000007\n",
      "Epoch 83\n",
      "Step 0 - Loss: 0.000192\n",
      "Step 200 - Loss: 0.000362\n",
      "Step 400 - Loss: 0.000004\n",
      "Epoch 84\n",
      "Step 0 - Loss: 0.000302\n",
      "Step 200 - Loss: 0.000537\n",
      "Step 400 - Loss: 0.000008\n",
      "Epoch 85\n",
      "Step 0 - Loss: 0.000496\n",
      "Step 200 - Loss: 0.000469\n",
      "Step 400 - Loss: 0.000007\n",
      "Epoch 86\n",
      "Step 0 - Loss: 0.000213\n",
      "Step 200 - Loss: 0.000480\n",
      "Step 400 - Loss: 0.000005\n",
      "Epoch 87\n",
      "Step 0 - Loss: 0.000267\n",
      "Step 200 - Loss: 0.000512\n",
      "Step 400 - Loss: 0.000002\n",
      "Epoch 88\n",
      "Step 0 - Loss: 0.000151\n",
      "Step 200 - Loss: 0.000445\n",
      "Step 400 - Loss: 0.000005\n",
      "Epoch 89\n",
      "Step 0 - Loss: 0.000133\n",
      "Step 200 - Loss: 0.000423\n",
      "Step 400 - Loss: 0.000002\n",
      "Epoch 90\n",
      "Step 0 - Loss: 0.000306\n",
      "Step 200 - Loss: 0.000418\n",
      "Step 400 - Loss: 0.000003\n",
      "Epoch 91\n",
      "Step 0 - Loss: 0.000336\n",
      "Step 200 - Loss: 0.000444\n",
      "Step 400 - Loss: 0.000002\n",
      "Epoch 92\n",
      "Step 0 - Loss: 0.000458\n",
      "Step 200 - Loss: 0.000453\n",
      "Step 400 - Loss: 0.000001\n",
      "Epoch 93\n",
      "Step 0 - Loss: 0.000174\n",
      "Step 200 - Loss: 0.000461\n",
      "Step 400 - Loss: 0.000004\n",
      "Epoch 94\n",
      "Step 0 - Loss: 0.000150\n",
      "Step 200 - Loss: 0.000480\n",
      "Step 400 - Loss: 0.000003\n",
      "Epoch 95\n",
      "Step 0 - Loss: 0.000334\n",
      "Step 200 - Loss: 0.000438\n",
      "Step 400 - Loss: 0.000004\n",
      "Epoch 96\n",
      "Step 0 - Loss: 0.000104\n",
      "Step 200 - Loss: 0.000377\n"
     ]
    },
    {
     "name": "stdout",
     "output_type": "stream",
     "text": [
      "Step 400 - Loss: 0.000001\n",
      "Epoch 97\n",
      "Step 0 - Loss: 0.000311\n",
      "Step 200 - Loss: 0.000421\n",
      "Step 400 - Loss: 0.000003\n",
      "Epoch 98\n",
      "Step 0 - Loss: 0.000283\n",
      "Step 200 - Loss: 0.000465\n",
      "Step 400 - Loss: 0.000002\n",
      "Epoch 99\n",
      "Step 0 - Loss: 0.000389\n",
      "Step 200 - Loss: 0.000457\n",
      "Step 400 - Loss: 0.000002\n"
     ]
    }
   ],
   "source": [
    "loss_list = []\n",
    "test_pred_list = []\n",
    "\n",
    "with tf.Session() as sess:\n",
    "    \n",
    "    tf.global_variables_initializer().run()\n",
    "    \n",
    "    for epoch_idx in range(num_epochs):\n",
    "                \n",
    "        print('Epoch %d' %epoch_idx)\n",
    "        \n",
    "        for batch_idx in range(num_batches):\n",
    "            start_idx = batch_idx * truncated_backprop_length\n",
    "            end_idx = start_idx + truncated_backprop_length * batch_size\n",
    "        \n",
    "            \n",
    "            batchX = xTrain[start_idx:end_idx,:].reshape(batch_size,truncated_backprop_length,num_features)\n",
    "            batchY = yTrain[start_idx:end_idx].reshape(batch_size,truncated_backprop_length,1)\n",
    "                \n",
    "            #print('IDXs',start_idx,end_idx)\n",
    "            #print('X',batchX.shape,batchX)\n",
    "            #print('Y',batchX.shape,batchY)\n",
    "            \n",
    "            feed = {batchX_placeholder : batchX, batchY_placeholder : batchY}\n",
    "            \n",
    "            #TRAIN!\n",
    "            _loss,_train_step,_pred,_last_label,_prediction = sess.run(\n",
    "                fetches=[loss,train_step,prediction,last_label,prediction],\n",
    "                feed_dict = feed\n",
    "            )\n",
    "            \n",
    "            loss_list.append(_loss)\n",
    "            \n",
    "           \n",
    "            \n",
    "            if(batch_idx % 200 == 0):\n",
    "                print('Step %d - Loss: %.6f' %(batch_idx,_loss))\n",
    "                \n",
    "    #TEST\n",
    "    \n",
    "    \n",
    "    for test_idx in range(len(xTest) - truncated_backprop_length):\n",
    "        \n",
    "        testBatchX = xTest[test_idx:test_idx+truncated_backprop_length,:].reshape((1,truncated_backprop_length,num_features))        \n",
    "        testBatchY = yTest[test_idx:test_idx+truncated_backprop_length].reshape((1,truncated_backprop_length,1))\n",
    "\n",
    "        \n",
    "        #_current_state = np.zeros((batch_size,state_size))\n",
    "        feed = {batchX_placeholder : testBatchX,\n",
    "            batchY_placeholder : testBatchY}\n",
    "\n",
    "        #Test_pred contains 'window_size' predictions, we want the last one\n",
    "        _last_state,_last_label,test_pred = sess.run([last_state,last_label,prediction],feed_dict=feed)\n",
    "        test_pred_list.append(test_pred[-1][0]) #The last one"
   ]
  },
  {
   "cell_type": "code",
   "execution_count": 23,
   "metadata": {},
   "outputs": [
    {
     "data": {
      "image/png": "[encoded data removed]",
      "text/plain": [
       "<matplotlib.figure.Figure at 0x25f2e28e748>"
      ]
     },
     "metadata": {},
     "output_type": "display_data"
    }
   ],
   "source": [
    "import matplotlib.pyplot as plt\n",
    "%matplotlib inline\n",
    "plt.title('Loss')\n",
    "plt.scatter(x=np.arange(0,len(loss_list)),y=loss_list)\n",
    "plt.xlabel('epochs')\n",
    "plt.ylabel('loss')\n",
    "plt.show();"
   ]
  },
  {
   "cell_type": "code",
   "execution_count": 24,
   "metadata": {},
   "outputs": [
    {
     "data": {
      "image/png": "[encoded data removed]",
      "text/plain": [
       "<matplotlib.figure.Figure at 0x25f34659c50>"
      ]
     },
     "metadata": {},
     "output_type": "display_data"
    }
   ],
   "source": [
    "plt.figure(figsize=(21,7))\n",
    "plt.plot(yTest,label='Price',color='blue')\n",
    "plt.plot(test_pred_list,label='Predicted',color='red')\n",
    "plt.title('Price vs Predicted')\n",
    "plt.legend(loc='upper left')\n",
    "plt.show()"
   ]
  },
  {
   "cell_type": "code",
   "execution_count": null,
   "metadata": {
    "collapsed": true
   },
   "outputs": [],
   "source": []
  },
  {
   "cell_type": "code",
   "execution_count": null,
   "metadata": {
    "collapsed": true
   },
   "outputs": [],
   "source": []
  },
  {
   "cell_type": "code",
   "execution_count": null,
   "metadata": {
    "collapsed": true
   },
   "outputs": [],
   "source": []
  },
  {
   "cell_type": "code",
   "execution_count": null,
   "metadata": {
    "collapsed": true
   },
   "outputs": [],
   "source": []
  }
 ],
 "metadata": {
  "kernelspec": {
   "display_name": "Python 3",
   "language": "python",
   "name": "python3"
  },
  "language_info": {
   "codemirror_mode": {
    "name": "ipython",
    "version": 3
   },
   "file_extension": ".py",
   "mimetype": "text/x-python",
   "name": "python",
   "nbconvert_exporter": "python",
   "pygments_lexer": "ipython3",
   "version": "3.6.1"
  }
 },
 "nbformat": 4,
 "nbformat_minor": 2
}
