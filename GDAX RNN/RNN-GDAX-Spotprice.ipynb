{
 "cells": [
  {
   "cell_type": "markdown",
   "metadata": {},
   "source": [
    "# Cryptocurrency Market Predictor - Recurrent Neural Network\n",
    "\n",
    "Predicting BTCUSD market"
   ]
  },
  {
   "cell_type": "code",
   "execution_count": 1,
   "metadata": {
    "collapsed": true
   },
   "outputs": [],
   "source": [
    "import tensorflow as tf\n",
    "import pandas as pd \n",
    "import numpy as np\n",
    "import matplotlib.pyplot as plt\n",
    "%matplotlib inline"
   ]
  },
  {
   "cell_type": "markdown",
   "metadata": {},
   "source": [
    "## Read data"
   ]
  },
  {
   "cell_type": "code",
   "execution_count": 2,
   "metadata": {},
   "outputs": [
    {
     "data": {
      "text/html": [
       "<div>\n",
       "<style>\n",
       "    .dataframe thead tr:only-child th {\n",
       "        text-align: right;\n",
       "    }\n",
       "\n",
       "    .dataframe thead th {\n",
       "        text-align: left;\n",
       "    }\n",
       "\n",
       "    .dataframe tbody tr th {\n",
       "        vertical-align: top;\n",
       "    }\n",
       "</style>\n",
       "<table border=\"1\" class=\"dataframe\">\n",
       "  <thead>\n",
       "    <tr style=\"text-align: right;\">\n",
       "      <th></th>\n",
       "      <th>Price</th>\n",
       "      <th>PriceTarget</th>\n",
       "      <th>MACD</th>\n",
       "      <th>TradePrice</th>\n",
       "      <th>trade_volume</th>\n",
       "      <th>b1</th>\n",
       "      <th>a1</th>\n",
       "      <th>bq1</th>\n",
       "      <th>aq1</th>\n",
       "      <th>Spread</th>\n",
       "    </tr>\n",
       "  </thead>\n",
       "  <tbody>\n",
       "    <tr>\n",
       "      <th>4998</th>\n",
       "      <td>4309.035</td>\n",
       "      <td>4309.035</td>\n",
       "      <td>-1.347975e-08</td>\n",
       "      <td>4309.04</td>\n",
       "      <td>0.000002</td>\n",
       "      <td>4309.03</td>\n",
       "      <td>4309.04</td>\n",
       "      <td>21.008198</td>\n",
       "      <td>9.02431</td>\n",
       "      <td>0.01</td>\n",
       "    </tr>\n",
       "    <tr>\n",
       "      <th>4999</th>\n",
       "      <td>4309.035</td>\n",
       "      <td>4309.035</td>\n",
       "      <td>-1.248211e-08</td>\n",
       "      <td>4309.04</td>\n",
       "      <td>0.000002</td>\n",
       "      <td>4309.03</td>\n",
       "      <td>4309.04</td>\n",
       "      <td>21.008198</td>\n",
       "      <td>6.52431</td>\n",
       "      <td>0.01</td>\n",
       "    </tr>\n",
       "  </tbody>\n",
       "</table>\n",
       "</div>"
      ],
      "text/plain": [
       "         Price  PriceTarget          MACD  TradePrice  trade_volume       b1  \\\n",
       "4998  4309.035     4309.035 -1.347975e-08     4309.04      0.000002  4309.03   \n",
       "4999  4309.035     4309.035 -1.248211e-08     4309.04      0.000002  4309.03   \n",
       "\n",
       "           a1        bq1      aq1  Spread  \n",
       "4998  4309.04  21.008198  9.02431    0.01  \n",
       "4999  4309.04  21.008198  6.52431    0.01  "
      ]
     },
     "execution_count": 2,
     "metadata": {},
     "output_type": "execute_result"
    }
   ],
   "source": [
    "dataset = pd.read_csv('BTCUSD_TechnicalIndicators.csv', nrows=5000)\n",
    "dataset.tail(2)"
   ]
  },
  {
   "cell_type": "code",
   "execution_count": 3,
   "metadata": {},
   "outputs": [
    {
     "data": {
      "text/html": [
       "<div>\n",
       "<style>\n",
       "    .dataframe thead tr:only-child th {\n",
       "        text-align: right;\n",
       "    }\n",
       "\n",
       "    .dataframe thead th {\n",
       "        text-align: left;\n",
       "    }\n",
       "\n",
       "    .dataframe tbody tr th {\n",
       "        vertical-align: top;\n",
       "    }\n",
       "</style>\n",
       "<table border=\"1\" class=\"dataframe\">\n",
       "  <thead>\n",
       "    <tr style=\"text-align: right;\">\n",
       "      <th></th>\n",
       "      <th>Price</th>\n",
       "      <th>PriceTarget</th>\n",
       "      <th>MACD</th>\n",
       "      <th>TradePrice</th>\n",
       "      <th>trade_volume</th>\n",
       "      <th>b1</th>\n",
       "      <th>a1</th>\n",
       "      <th>bq1</th>\n",
       "      <th>aq1</th>\n",
       "      <th>Spread</th>\n",
       "    </tr>\n",
       "  </thead>\n",
       "  <tbody>\n",
       "    <tr>\n",
       "      <th>198</th>\n",
       "      <td>4150.015</td>\n",
       "      <td>4150.015</td>\n",
       "      <td>0.001773</td>\n",
       "      <td>4150.02</td>\n",
       "      <td>0.000002</td>\n",
       "      <td>4150.01</td>\n",
       "      <td>4150.02</td>\n",
       "      <td>13.596676</td>\n",
       "      <td>9.96846</td>\n",
       "      <td>0.01</td>\n",
       "    </tr>\n",
       "    <tr>\n",
       "      <th>199</th>\n",
       "      <td>4150.015</td>\n",
       "      <td>4150.015</td>\n",
       "      <td>0.001651</td>\n",
       "      <td>4150.02</td>\n",
       "      <td>0.000002</td>\n",
       "      <td>4150.01</td>\n",
       "      <td>4150.02</td>\n",
       "      <td>13.596676</td>\n",
       "      <td>9.96846</td>\n",
       "      <td>0.01</td>\n",
       "    </tr>\n",
       "  </tbody>\n",
       "</table>\n",
       "</div>"
      ],
      "text/plain": [
       "        Price  PriceTarget      MACD  TradePrice  trade_volume       b1  \\\n",
       "198  4150.015     4150.015  0.001773     4150.02      0.000002  4150.01   \n",
       "199  4150.015     4150.015  0.001651     4150.02      0.000002  4150.01   \n",
       "\n",
       "          a1        bq1      aq1  Spread  \n",
       "198  4150.02  13.596676  9.96846    0.01  \n",
       "199  4150.02  13.596676  9.96846    0.01  "
      ]
     },
     "execution_count": 3,
     "metadata": {},
     "output_type": "execute_result"
    }
   ],
   "source": [
    "spotdata = pd.read_csv('BTCUSD_SPOT.csv', nrows=200)\n",
    "spotdata.tail(2) "
   ]
  },
  {
   "cell_type": "markdown",
   "metadata": {},
   "source": [
    "#### Normalize"
   ]
  },
  {
   "cell_type": "code",
   "execution_count": 4,
   "metadata": {},
   "outputs": [
    {
     "data": {
      "text/html": [
       "<div>\n",
       "<style>\n",
       "    .dataframe thead tr:only-child th {\n",
       "        text-align: right;\n",
       "    }\n",
       "\n",
       "    .dataframe thead th {\n",
       "        text-align: left;\n",
       "    }\n",
       "\n",
       "    .dataframe tbody tr th {\n",
       "        vertical-align: top;\n",
       "    }\n",
       "</style>\n",
       "<table border=\"1\" class=\"dataframe\">\n",
       "  <thead>\n",
       "    <tr style=\"text-align: right;\">\n",
       "      <th></th>\n",
       "      <th>Price</th>\n",
       "      <th>PriceTarget</th>\n",
       "      <th>MACD</th>\n",
       "      <th>TradePrice</th>\n",
       "      <th>trade_volume</th>\n",
       "      <th>b1</th>\n",
       "      <th>a1</th>\n",
       "      <th>bq1</th>\n",
       "      <th>aq1</th>\n",
       "      <th>Spread</th>\n",
       "    </tr>\n",
       "  </thead>\n",
       "  <tbody>\n",
       "    <tr>\n",
       "      <th>0</th>\n",
       "      <td>-0.424184</td>\n",
       "      <td>-0.425127</td>\n",
       "      <td>0.000002</td>\n",
       "      <td>-0.997099</td>\n",
       "      <td>-0.015035</td>\n",
       "      <td>-0.418556</td>\n",
       "      <td>-0.429811</td>\n",
       "      <td>-0.212539</td>\n",
       "      <td>-0.118351</td>\n",
       "      <td>-0.040523</td>\n",
       "    </tr>\n",
       "    <tr>\n",
       "      <th>1</th>\n",
       "      <td>-0.424184</td>\n",
       "      <td>-0.425127</td>\n",
       "      <td>0.000002</td>\n",
       "      <td>-0.997099</td>\n",
       "      <td>-0.015035</td>\n",
       "      <td>-0.418556</td>\n",
       "      <td>-0.429811</td>\n",
       "      <td>-0.212539</td>\n",
       "      <td>-0.118351</td>\n",
       "      <td>-0.040523</td>\n",
       "    </tr>\n",
       "    <tr>\n",
       "      <th>2</th>\n",
       "      <td>-0.424184</td>\n",
       "      <td>-0.425127</td>\n",
       "      <td>0.000002</td>\n",
       "      <td>-0.997099</td>\n",
       "      <td>-0.015035</td>\n",
       "      <td>-0.418556</td>\n",
       "      <td>-0.429811</td>\n",
       "      <td>-0.212539</td>\n",
       "      <td>-0.118351</td>\n",
       "      <td>-0.040523</td>\n",
       "    </tr>\n",
       "  </tbody>\n",
       "</table>\n",
       "</div>"
      ],
      "text/plain": [
       "      Price  PriceTarget      MACD  TradePrice  trade_volume        b1  \\\n",
       "0 -0.424184    -0.425127  0.000002   -0.997099     -0.015035 -0.418556   \n",
       "1 -0.424184    -0.425127  0.000002   -0.997099     -0.015035 -0.418556   \n",
       "2 -0.424184    -0.425127  0.000002   -0.997099     -0.015035 -0.418556   \n",
       "\n",
       "         a1       bq1       aq1    Spread  \n",
       "0 -0.429811 -0.212539 -0.118351 -0.040523  \n",
       "1 -0.429811 -0.212539 -0.118351 -0.040523  \n",
       "2 -0.429811 -0.212539 -0.118351 -0.040523  "
      ]
     },
     "execution_count": 4,
     "metadata": {},
     "output_type": "execute_result"
    }
   ],
   "source": [
    "PriceRange=dataset[\"Price\"].max() - dataset[\"Price\"].min()\n",
    "PriceMean = dataset[\"Price\"].mean()\n",
    "datasetNorm = (dataset - dataset.mean()) / (dataset.max() - dataset.min())\n",
    "datasetNorm.head(3)"
   ]
  },
  {
   "cell_type": "code",
   "execution_count": 5,
   "metadata": {},
   "outputs": [
    {
     "data": {
      "text/html": [
       "<div>\n",
       "<style>\n",
       "    .dataframe thead tr:only-child th {\n",
       "        text-align: right;\n",
       "    }\n",
       "\n",
       "    .dataframe thead th {\n",
       "        text-align: left;\n",
       "    }\n",
       "\n",
       "    .dataframe tbody tr th {\n",
       "        vertical-align: top;\n",
       "    }\n",
       "</style>\n",
       "<table border=\"1\" class=\"dataframe\">\n",
       "  <thead>\n",
       "    <tr style=\"text-align: right;\">\n",
       "      <th></th>\n",
       "      <th>Price</th>\n",
       "      <th>PriceTarget</th>\n",
       "      <th>MACD</th>\n",
       "      <th>TradePrice</th>\n",
       "      <th>trade_volume</th>\n",
       "      <th>b1</th>\n",
       "      <th>a1</th>\n",
       "      <th>bq1</th>\n",
       "      <th>aq1</th>\n",
       "      <th>Spread</th>\n",
       "    </tr>\n",
       "  </thead>\n",
       "  <tbody>\n",
       "    <tr>\n",
       "      <th>0</th>\n",
       "      <td>0.852344</td>\n",
       "      <td>0.868562</td>\n",
       "      <td>0.0001</td>\n",
       "      <td>0.860334</td>\n",
       "      <td>-0.014239</td>\n",
       "      <td>0.852429</td>\n",
       "      <td>0.852259</td>\n",
       "      <td>-0.156015</td>\n",
       "      <td>0.448916</td>\n",
       "      <td>-0.05</td>\n",
       "    </tr>\n",
       "    <tr>\n",
       "      <th>1</th>\n",
       "      <td>0.852344</td>\n",
       "      <td>0.868562</td>\n",
       "      <td>0.0001</td>\n",
       "      <td>0.860334</td>\n",
       "      <td>-0.012464</td>\n",
       "      <td>0.852429</td>\n",
       "      <td>0.852259</td>\n",
       "      <td>-0.156015</td>\n",
       "      <td>0.448916</td>\n",
       "      <td>-0.05</td>\n",
       "    </tr>\n",
       "    <tr>\n",
       "      <th>2</th>\n",
       "      <td>0.852344</td>\n",
       "      <td>0.868562</td>\n",
       "      <td>0.0001</td>\n",
       "      <td>0.860334</td>\n",
       "      <td>-0.014239</td>\n",
       "      <td>0.852429</td>\n",
       "      <td>0.852259</td>\n",
       "      <td>-0.156015</td>\n",
       "      <td>0.448916</td>\n",
       "      <td>-0.05</td>\n",
       "    </tr>\n",
       "  </tbody>\n",
       "</table>\n",
       "</div>"
      ],
      "text/plain": [
       "      Price  PriceTarget    MACD  TradePrice  trade_volume        b1  \\\n",
       "0  0.852344     0.868562  0.0001    0.860334     -0.014239  0.852429   \n",
       "1  0.852344     0.868562  0.0001    0.860334     -0.012464  0.852429   \n",
       "2  0.852344     0.868562  0.0001    0.860334     -0.014239  0.852429   \n",
       "\n",
       "         a1       bq1       aq1  Spread  \n",
       "0  0.852259 -0.156015  0.448916   -0.05  \n",
       "1  0.852259 -0.156015  0.448916   -0.05  \n",
       "2  0.852259 -0.156015  0.448916   -0.05  "
      ]
     },
     "execution_count": 5,
     "metadata": {},
     "output_type": "execute_result"
    }
   ],
   "source": [
    "SpotPriceRange=spotdata[\"Price\"].max() - spotdata[\"Price\"].min()\n",
    "PriceMean = spotdata[\"Price\"].mean()\n",
    "spotdataNorm = (spotdata - spotdata.mean()) / (spotdata.max() - spotdata.min())\n",
    "spotdataNorm.head(3)"
   ]
  },
  {
   "cell_type": "code",
   "execution_count": null,
   "metadata": {
    "collapsed": true
   },
   "outputs": [],
   "source": []
  },
  {
   "cell_type": "markdown",
   "metadata": {},
   "source": [
    "## Hyperparams"
   ]
  },
  {
   "cell_type": "code",
   "execution_count": 6,
   "metadata": {},
   "outputs": [
    {
     "name": "stdout",
     "output_type": "stream",
     "text": [
      "The total series length is: 5000\n",
      "The current configuration gives us 500 batches of 1 observations each one looking 10 steps in the past\n"
     ]
    }
   ],
   "source": [
    "num_epochs = 100\n",
    "\n",
    "batch_size = 1\n",
    "\n",
    "total_series_length = len(dataset.index)\n",
    "\n",
    "truncated_backprop_length = 10 #The size of the sequence\n",
    "\n",
    "state_size = 25 #The number of neurons\n",
    "\n",
    "num_features = 4\n",
    "num_classes = 1 #[1,0]\n",
    "\n",
    "num_batches = total_series_length//batch_size//truncated_backprop_length\n",
    "\n",
    "min_test_size = 1000\n",
    "\n",
    "print('The total series length is: %d' %total_series_length)\n",
    "print('The current configuration gives us %d batches of %d observations each one looking %d steps in the past' \n",
    "      %(num_batches,batch_size,truncated_backprop_length))"
   ]
  },
  {
   "cell_type": "markdown",
   "metadata": {},
   "source": [
    "## Train-Test split"
   ]
  },
  {
   "cell_type": "code",
   "execution_count": 7,
   "metadata": {
    "collapsed": true
   },
   "outputs": [],
   "source": [
    "datasetTrain = datasetNorm[dataset.index < num_batches*batch_size*truncated_backprop_length]\n",
    "\n",
    "\n",
    "for i in range(min_test_size,len(datasetNorm.index)):\n",
    "    \n",
    "    if(i % truncated_backprop_length*batch_size == 0):\n",
    "        test_first_idx = len(datasetNorm.index)-i\n",
    "        break\n",
    "\n",
    "datasetTest =  datasetNorm[dataset.index >= test_first_idx]"
   ]
  },
  {
   "cell_type": "code",
   "execution_count": 8,
   "metadata": {
    "collapsed": true
   },
   "outputs": [],
   "source": [
    "datasetTest = spotdataNorm"
   ]
  },
  {
   "cell_type": "code",
   "execution_count": 9,
   "metadata": {},
   "outputs": [
    {
     "data": {
      "text/html": [
       "<div>\n",
       "<style>\n",
       "    .dataframe thead tr:only-child th {\n",
       "        text-align: right;\n",
       "    }\n",
       "\n",
       "    .dataframe thead th {\n",
       "        text-align: left;\n",
       "    }\n",
       "\n",
       "    .dataframe tbody tr th {\n",
       "        vertical-align: top;\n",
       "    }\n",
       "</style>\n",
       "<table border=\"1\" class=\"dataframe\">\n",
       "  <thead>\n",
       "    <tr style=\"text-align: right;\">\n",
       "      <th></th>\n",
       "      <th>Price</th>\n",
       "      <th>PriceTarget</th>\n",
       "      <th>MACD</th>\n",
       "      <th>TradePrice</th>\n",
       "      <th>trade_volume</th>\n",
       "      <th>b1</th>\n",
       "      <th>a1</th>\n",
       "      <th>bq1</th>\n",
       "      <th>aq1</th>\n",
       "      <th>Spread</th>\n",
       "    </tr>\n",
       "  </thead>\n",
       "  <tbody>\n",
       "    <tr>\n",
       "      <th>0</th>\n",
       "      <td>-0.424184</td>\n",
       "      <td>-0.425127</td>\n",
       "      <td>0.000002</td>\n",
       "      <td>-0.997099</td>\n",
       "      <td>-0.015035</td>\n",
       "      <td>-0.418556</td>\n",
       "      <td>-0.429811</td>\n",
       "      <td>-0.212539</td>\n",
       "      <td>-0.118351</td>\n",
       "      <td>-0.040523</td>\n",
       "    </tr>\n",
       "    <tr>\n",
       "      <th>1</th>\n",
       "      <td>-0.424184</td>\n",
       "      <td>-0.425127</td>\n",
       "      <td>0.000002</td>\n",
       "      <td>-0.997099</td>\n",
       "      <td>-0.015035</td>\n",
       "      <td>-0.418556</td>\n",
       "      <td>-0.429811</td>\n",
       "      <td>-0.212539</td>\n",
       "      <td>-0.118351</td>\n",
       "      <td>-0.040523</td>\n",
       "    </tr>\n",
       "  </tbody>\n",
       "</table>\n",
       "</div>"
      ],
      "text/plain": [
       "      Price  PriceTarget      MACD  TradePrice  trade_volume        b1  \\\n",
       "0 -0.424184    -0.425127  0.000002   -0.997099     -0.015035 -0.418556   \n",
       "1 -0.424184    -0.425127  0.000002   -0.997099     -0.015035 -0.418556   \n",
       "\n",
       "         a1       bq1       aq1    Spread  \n",
       "0 -0.429811 -0.212539 -0.118351 -0.040523  \n",
       "1 -0.429811 -0.212539 -0.118351 -0.040523  "
      ]
     },
     "execution_count": 9,
     "metadata": {},
     "output_type": "execute_result"
    }
   ],
   "source": [
    "datasetTrain.head(2)"
   ]
  },
  {
   "cell_type": "code",
   "execution_count": 10,
   "metadata": {
    "scrolled": true
   },
   "outputs": [
    {
     "data": {
      "text/html": [
       "<div>\n",
       "<style>\n",
       "    .dataframe thead tr:only-child th {\n",
       "        text-align: right;\n",
       "    }\n",
       "\n",
       "    .dataframe thead th {\n",
       "        text-align: left;\n",
       "    }\n",
       "\n",
       "    .dataframe tbody tr th {\n",
       "        vertical-align: top;\n",
       "    }\n",
       "</style>\n",
       "<table border=\"1\" class=\"dataframe\">\n",
       "  <thead>\n",
       "    <tr style=\"text-align: right;\">\n",
       "      <th></th>\n",
       "      <th>Price</th>\n",
       "      <th>PriceTarget</th>\n",
       "      <th>MACD</th>\n",
       "      <th>TradePrice</th>\n",
       "      <th>trade_volume</th>\n",
       "      <th>b1</th>\n",
       "      <th>a1</th>\n",
       "      <th>bq1</th>\n",
       "      <th>aq1</th>\n",
       "      <th>Spread</th>\n",
       "    </tr>\n",
       "  </thead>\n",
       "  <tbody>\n",
       "    <tr>\n",
       "      <th>0</th>\n",
       "      <td>0.852344</td>\n",
       "      <td>0.868562</td>\n",
       "      <td>0.0001</td>\n",
       "      <td>0.860334</td>\n",
       "      <td>-0.014239</td>\n",
       "      <td>0.852429</td>\n",
       "      <td>0.852259</td>\n",
       "      <td>-0.156015</td>\n",
       "      <td>0.448916</td>\n",
       "      <td>-0.05</td>\n",
       "    </tr>\n",
       "    <tr>\n",
       "      <th>1</th>\n",
       "      <td>0.852344</td>\n",
       "      <td>0.868562</td>\n",
       "      <td>0.0001</td>\n",
       "      <td>0.860334</td>\n",
       "      <td>-0.012464</td>\n",
       "      <td>0.852429</td>\n",
       "      <td>0.852259</td>\n",
       "      <td>-0.156015</td>\n",
       "      <td>0.448916</td>\n",
       "      <td>-0.05</td>\n",
       "    </tr>\n",
       "  </tbody>\n",
       "</table>\n",
       "</div>"
      ],
      "text/plain": [
       "      Price  PriceTarget    MACD  TradePrice  trade_volume        b1  \\\n",
       "0  0.852344     0.868562  0.0001    0.860334     -0.014239  0.852429   \n",
       "1  0.852344     0.868562  0.0001    0.860334     -0.012464  0.852429   \n",
       "\n",
       "         a1       bq1       aq1  Spread  \n",
       "0  0.852259 -0.156015  0.448916   -0.05  \n",
       "1  0.852259 -0.156015  0.448916   -0.05  "
      ]
     },
     "execution_count": 10,
     "metadata": {},
     "output_type": "execute_result"
    }
   ],
   "source": [
    "datasetTest.head(2)"
   ]
  },
  {
   "cell_type": "code",
   "execution_count": 11,
   "metadata": {
    "collapsed": true
   },
   "outputs": [],
   "source": [
    "#Pick appropriate columns to train\n",
    "xTrain = datasetTrain[['Price','b1','a1','Spread']].as_matrix()\n",
    "yTrain = datasetTrain['PriceTarget'].as_matrix()"
   ]
  },
  {
   "cell_type": "code",
   "execution_count": 12,
   "metadata": {},
   "outputs": [
    {
     "name": "stdout",
     "output_type": "stream",
     "text": [
      "[[-0.42418364 -0.41855611 -0.42981116 -0.04052325]\n",
      " [-0.42418364 -0.41855611 -0.42981116 -0.04052325]\n",
      " [-0.42418364 -0.41855611 -0.42981116 -0.04052325]] \n",
      " [-0.42512658 -0.42512658 -0.42512658]\n"
     ]
    }
   ],
   "source": [
    "print(xTrain[0:3],'\\n',yTrain[0:3])"
   ]
  },
  {
   "cell_type": "code",
   "execution_count": 13,
   "metadata": {
    "collapsed": true
   },
   "outputs": [],
   "source": [
    "#Pick appropriate columns to test\n",
    "xTest = datasetTest[['Price','b1','a1','Spread']].as_matrix()\n",
    "yTest = datasetTest['PriceTarget'].as_matrix()"
   ]
  },
  {
   "cell_type": "code",
   "execution_count": 14,
   "metadata": {},
   "outputs": [
    {
     "name": "stdout",
     "output_type": "stream",
     "text": [
      "[[ 0.85234428  0.85242922  0.85225934 -0.05      ]\n",
      " [ 0.85234428  0.85242922  0.85225934 -0.05      ]\n",
      " [ 0.85234428  0.85242922  0.85225934 -0.05      ]] \n",
      " [ 0.86856189  0.86856189  0.86856189]\n"
     ]
    }
   ],
   "source": [
    "print(xTest[0:3],'\\n',yTest[0:3])"
   ]
  },
  {
   "cell_type": "markdown",
   "metadata": {},
   "source": [
    "## Visualize starting price data"
   ]
  },
  {
   "cell_type": "code",
   "execution_count": 15,
   "metadata": {
    "scrolled": true
   },
   "outputs": [
    {
     "data": {
      "image/png": "[encoded data removed]",
      "text/plain": [
       "<matplotlib.figure.Figure at 0x152c73c4d68>"
      ]
     },
     "metadata": {},
     "output_type": "display_data"
    },
    {
     "data": {
      "image/png": "[encoded data removed]",
      "text/plain": [
       "<matplotlib.figure.Figure at 0x152c1289160>"
      ]
     },
     "metadata": {},
     "output_type": "display_data"
    }
   ],
   "source": [
    "plt.figure(figsize=(25,5))\n",
    "plt.plot(xTrain[:,0])\n",
    "plt.title('Train (' +str(len(xTrain))+' data points)')\n",
    "plt.show()\n",
    "plt.figure(figsize=(10,3))\n",
    "plt.plot(xTest[:,0])\n",
    "plt.title('Test (' +str(len(xTest))+' data points)')\n",
    "plt.show()"
   ]
  },
  {
   "cell_type": "markdown",
   "metadata": {},
   "source": [
    "## Placeholders"
   ]
  },
  {
   "cell_type": "code",
   "execution_count": 16,
   "metadata": {
    "collapsed": true
   },
   "outputs": [],
   "source": [
    "batchX_placeholder = tf.placeholder(dtype=tf.float32,shape=[None,truncated_backprop_length,num_features],name='data_ph')\n",
    "batchY_placeholder = tf.placeholder(dtype=tf.float32,shape=[None,truncated_backprop_length,num_classes],name='target_ph')"
   ]
  },
  {
   "cell_type": "markdown",
   "metadata": {},
   "source": [
    "## Weights and biases\n",
    "Because is a 3 layer net:\n",
    "1. Input\n",
    "2. Hidden Recurrent layer\n",
    "3. Output\n",
    "\n",
    "We need 2 pairs of W and b"
   ]
  },
  {
   "cell_type": "code",
   "execution_count": 17,
   "metadata": {
    "collapsed": true
   },
   "outputs": [],
   "source": [
    "W2 = tf.Variable(initial_value=np.random.rand(state_size,num_classes),dtype=tf.float32)\n",
    "b2 = tf.Variable(initial_value=np.random.rand(1,num_classes),dtype=tf.float32)"
   ]
  },
  {
   "cell_type": "markdown",
   "metadata": {},
   "source": [
    "Unpack"
   ]
  },
  {
   "cell_type": "code",
   "execution_count": 18,
   "metadata": {
    "collapsed": true
   },
   "outputs": [],
   "source": [
    "labels_series = tf.unstack(batchY_placeholder, axis=1)"
   ]
  },
  {
   "cell_type": "markdown",
   "metadata": {},
   "source": [
    "## Forward pass - Unroll the cell\n",
    "\n",
    "Input to recurrent"
   ]
  },
  {
   "cell_type": "code",
   "execution_count": 19,
   "metadata": {
    "collapsed": true
   },
   "outputs": [],
   "source": [
    "cell = tf.contrib.rnn.BasicRNNCell(num_units=state_size)\n",
    "\n",
    "states_series, current_state = tf.nn.dynamic_rnn(cell=cell,inputs=batchX_placeholder,dtype=tf.float32)"
   ]
  },
  {
   "cell_type": "code",
   "execution_count": 20,
   "metadata": {
    "collapsed": true
   },
   "outputs": [],
   "source": [
    "states_series = tf.transpose(states_series,[1,0,2])"
   ]
  },
  {
   "cell_type": "markdown",
   "metadata": {},
   "source": [
    "## Backward pass - Output"
   ]
  },
  {
   "cell_type": "code",
   "execution_count": 21,
   "metadata": {
    "collapsed": true
   },
   "outputs": [],
   "source": [
    "last_state = tf.gather(params=states_series,indices=states_series.get_shape()[0]-1)\n",
    "last_label = tf.gather(params=labels_series,indices=len(labels_series)-1)"
   ]
  },
  {
   "cell_type": "markdown",
   "metadata": {},
   "source": [
    "## Weights and bias out"
   ]
  },
  {
   "cell_type": "code",
   "execution_count": 22,
   "metadata": {
    "collapsed": true
   },
   "outputs": [],
   "source": [
    "weight = tf.Variable(tf.truncated_normal([state_size,num_classes]))\n",
    "bias = tf.Variable(tf.constant(0.1,shape=[num_classes]))"
   ]
  },
  {
   "cell_type": "markdown",
   "metadata": {},
   "source": [
    "## Prediction, Loss & Optimizer"
   ]
  },
  {
   "cell_type": "code",
   "execution_count": 23,
   "metadata": {},
   "outputs": [
    {
     "data": {
      "text/plain": [
       "<tf.Tensor 'add:0' shape=(?, 1) dtype=float32>"
      ]
     },
     "execution_count": 23,
     "metadata": {},
     "output_type": "execute_result"
    }
   ],
   "source": [
    "prediction = tf.matmul(last_state,weight) + bias\n",
    "prediction"
   ]
  },
  {
   "cell_type": "code",
   "execution_count": 24,
   "metadata": {},
   "outputs": [
    {
     "name": "stderr",
     "output_type": "stream",
     "text": [
      "C:\\Users\\Jason\\Anaconda3\\lib\\site-packages\\tensorflow\\python\\ops\\gradients_impl.py:95: UserWarning: Converting sparse IndexedSlices to a dense Tensor of unknown shape. This may consume a large amount of memory.\n",
      "  \"Converting sparse IndexedSlices to a dense Tensor of unknown shape. \"\n"
     ]
    }
   ],
   "source": [
    "loss = tf.reduce_mean(tf.squared_difference(last_label,prediction))\n",
    "\n",
    "train_step = tf.train.AdamOptimizer(learning_rate=0.001).minimize(loss)"
   ]
  },
  {
   "cell_type": "code",
   "execution_count": 25,
   "metadata": {},
   "outputs": [
    {
     "name": "stdout",
     "output_type": "stream",
     "text": [
      "Epoch 0\n",
      "Step 0 - Loss: 4.056830\n",
      "Step 200 - Loss: 0.000001\n",
      "Step 400 - Loss: 0.000006\n",
      "Epoch 1\n",
      "Step 0 - Loss: 0.016570\n",
      "Step 200 - Loss: 0.000050\n",
      "Step 400 - Loss: 0.000000\n",
      "Epoch 2\n",
      "Step 0 - Loss: 0.018289\n",
      "Step 200 - Loss: 0.000073\n",
      "Step 400 - Loss: 0.000003\n",
      "Epoch 3\n",
      "Step 0 - Loss: 0.029917\n",
      "Step 200 - Loss: 0.000034\n",
      "Step 400 - Loss: 0.000014\n",
      "Epoch 4\n",
      "Step 0 - Loss: 0.033344\n",
      "Step 200 - Loss: 0.000017\n",
      "Step 400 - Loss: 0.000055\n",
      "Epoch 5\n",
      "Step 0 - Loss: 0.034682\n",
      "Step 200 - Loss: 0.000004\n",
      "Step 400 - Loss: 0.000093\n",
      "Epoch 6\n",
      "Step 0 - Loss: 0.027835\n",
      "Step 200 - Loss: 0.000001\n",
      "Step 400 - Loss: 0.000078\n",
      "Epoch 7\n",
      "Step 0 - Loss: 0.026797\n",
      "Step 200 - Loss: 0.000001\n",
      "Step 400 - Loss: 0.000055\n",
      "Epoch 8\n",
      "Step 0 - Loss: 0.025539\n",
      "Step 200 - Loss: 0.000007\n",
      "Step 400 - Loss: 0.000042\n",
      "Epoch 9\n",
      "Step 0 - Loss: 0.022637\n",
      "Step 200 - Loss: 0.000013\n",
      "Step 400 - Loss: 0.000027\n",
      "Epoch 10\n",
      "Step 0 - Loss: 0.020696\n",
      "Step 200 - Loss: 0.000024\n",
      "Step 400 - Loss: 0.000013\n",
      "Epoch 11\n",
      "Step 0 - Loss: 0.018089\n",
      "Step 200 - Loss: 0.000040\n",
      "Step 400 - Loss: 0.000005\n",
      "Epoch 12\n",
      "Step 0 - Loss: 0.016049\n",
      "Step 200 - Loss: 0.000051\n",
      "Step 400 - Loss: 0.000000\n",
      "Epoch 13\n",
      "Step 0 - Loss: 0.014020\n",
      "Step 200 - Loss: 0.000055\n",
      "Step 400 - Loss: 0.000001\n",
      "Epoch 14\n",
      "Step 0 - Loss: 0.012480\n",
      "Step 200 - Loss: 0.000056\n",
      "Step 400 - Loss: 0.000003\n",
      "Epoch 15\n",
      "Step 0 - Loss: 0.011291\n",
      "Step 200 - Loss: 0.000055\n",
      "Step 400 - Loss: 0.000004\n",
      "Epoch 16\n",
      "Step 0 - Loss: 0.010952\n",
      "Step 200 - Loss: 0.000052\n",
      "Step 400 - Loss: 0.000005\n",
      "Epoch 17\n",
      "Step 0 - Loss: 0.010332\n",
      "Step 200 - Loss: 0.000053\n",
      "Step 400 - Loss: 0.000001\n",
      "Epoch 18\n",
      "Step 0 - Loss: 0.010282\n",
      "Step 200 - Loss: 0.000043\n",
      "Step 400 - Loss: 0.000002\n",
      "Epoch 19\n",
      "Step 0 - Loss: 0.005251\n",
      "Step 200 - Loss: 0.000047\n",
      "Step 400 - Loss: 0.000147\n",
      "Epoch 20\n",
      "Step 0 - Loss: 0.015700\n",
      "Step 200 - Loss: 0.000054\n",
      "Step 400 - Loss: 0.000000\n",
      "Epoch 21\n",
      "Step 0 - Loss: 0.019556\n",
      "Step 200 - Loss: 0.000095\n",
      "Step 400 - Loss: 0.000003\n",
      "Epoch 22\n",
      "Step 0 - Loss: 0.013950\n",
      "Step 200 - Loss: 0.000037\n",
      "Step 400 - Loss: 0.000008\n",
      "Epoch 23\n",
      "Step 0 - Loss: 0.013010\n",
      "Step 200 - Loss: 0.000051\n",
      "Step 400 - Loss: 0.000006\n",
      "Epoch 24\n",
      "Step 0 - Loss: 0.010646\n",
      "Step 200 - Loss: 0.000031\n",
      "Step 400 - Loss: 0.000009\n",
      "Epoch 25\n",
      "Step 0 - Loss: 0.011119\n",
      "Step 200 - Loss: 0.000028\n",
      "Step 400 - Loss: 0.000005\n",
      "Epoch 26\n",
      "Step 0 - Loss: 0.006426\n",
      "Step 200 - Loss: 0.000027\n",
      "Step 400 - Loss: 0.000010\n",
      "Epoch 27\n",
      "Step 0 - Loss: 0.008958\n",
      "Step 200 - Loss: 0.000025\n",
      "Step 400 - Loss: 0.000006\n",
      "Epoch 28\n",
      "Step 0 - Loss: 0.008851\n",
      "Step 200 - Loss: 0.000008\n",
      "Step 400 - Loss: 0.000008\n",
      "Epoch 29\n",
      "Step 0 - Loss: 0.009058\n",
      "Step 200 - Loss: 0.000005\n",
      "Step 400 - Loss: 0.000005\n",
      "Epoch 30\n",
      "Step 0 - Loss: 0.006844\n",
      "Step 200 - Loss: 0.000007\n",
      "Step 400 - Loss: 0.000008\n",
      "Epoch 31\n",
      "Step 0 - Loss: 0.008125\n",
      "Step 200 - Loss: 0.000003\n",
      "Step 400 - Loss: 0.000001\n",
      "Epoch 32\n",
      "Step 0 - Loss: 0.007626\n",
      "Step 200 - Loss: 0.000005\n",
      "Step 400 - Loss: 0.000005\n",
      "Epoch 33\n",
      "Step 0 - Loss: 0.008498\n",
      "Step 200 - Loss: 0.000002\n",
      "Step 400 - Loss: 0.000003\n",
      "Epoch 34\n",
      "Step 0 - Loss: 0.006312\n",
      "Step 200 - Loss: 0.000005\n",
      "Step 400 - Loss: 0.000006\n",
      "Epoch 35\n",
      "Step 0 - Loss: 0.007505\n",
      "Step 200 - Loss: 0.000002\n",
      "Step 400 - Loss: 0.000002\n",
      "Epoch 36\n",
      "Step 0 - Loss: 0.006250\n",
      "Step 200 - Loss: 0.000003\n",
      "Step 400 - Loss: 0.000006\n",
      "Epoch 37\n",
      "Step 0 - Loss: 0.007126\n",
      "Step 200 - Loss: 0.000001\n",
      "Step 400 - Loss: 0.000002\n",
      "Epoch 38\n",
      "Step 0 - Loss: 0.006350\n",
      "Step 200 - Loss: 0.000001\n",
      "Step 400 - Loss: 0.000006\n",
      "Epoch 39\n",
      "Step 0 - Loss: 0.007058\n",
      "Step 200 - Loss: 0.000001\n",
      "Step 400 - Loss: 0.000003\n",
      "Epoch 40\n",
      "Step 0 - Loss: 0.006593\n",
      "Step 200 - Loss: 0.000000\n",
      "Step 400 - Loss: 0.000006\n",
      "Epoch 41\n",
      "Step 0 - Loss: 0.007630\n",
      "Step 200 - Loss: 0.000001\n",
      "Step 400 - Loss: 0.000006\n",
      "Epoch 42\n",
      "Step 0 - Loss: 0.004325\n",
      "Step 200 - Loss: 0.000000\n",
      "Step 400 - Loss: 0.000006\n",
      "Epoch 43\n",
      "Step 0 - Loss: 0.005740\n",
      "Step 200 - Loss: 0.000000\n",
      "Step 400 - Loss: 0.000007\n",
      "Epoch 44\n",
      "Step 0 - Loss: 0.004715\n",
      "Step 200 - Loss: 0.000000\n",
      "Step 400 - Loss: 0.000004\n",
      "Epoch 45\n",
      "Step 0 - Loss: 0.006870\n",
      "Step 200 - Loss: 0.000000\n",
      "Step 400 - Loss: 0.000007\n",
      "Epoch 46\n",
      "Step 0 - Loss: 0.004991\n",
      "Step 200 - Loss: 0.000000\n",
      "Step 400 - Loss: 0.000003\n",
      "Epoch 47\n",
      "Step 0 - Loss: 0.006724\n",
      "Step 200 - Loss: 0.000000\n",
      "Step 400 - Loss: 0.000006\n",
      "Epoch 48\n",
      "Step 0 - Loss: 0.005504\n",
      "Step 200 - Loss: 0.000000\n",
      "Step 400 - Loss: 0.000003\n",
      "Epoch 49\n",
      "Step 0 - Loss: 0.007148\n",
      "Step 200 - Loss: 0.000001\n",
      "Step 400 - Loss: 0.000006\n",
      "Epoch 50\n",
      "Step 0 - Loss: 0.005563\n",
      "Step 200 - Loss: 0.000000\n",
      "Step 400 - Loss: 0.000003\n",
      "Epoch 51\n",
      "Step 0 - Loss: 0.007254\n",
      "Step 200 - Loss: 0.000002\n",
      "Step 400 - Loss: 0.000006\n",
      "Epoch 52\n",
      "Step 0 - Loss: 0.004925\n",
      "Step 200 - Loss: 0.000000\n",
      "Step 400 - Loss: 0.000003\n",
      "Epoch 53\n",
      "Step 0 - Loss: 0.007050\n",
      "Step 200 - Loss: 0.000002\n",
      "Step 400 - Loss: 0.000005\n",
      "Epoch 54\n",
      "Step 0 - Loss: 0.004792\n",
      "Step 200 - Loss: 0.000000\n",
      "Step 400 - Loss: 0.000003\n",
      "Epoch 55\n",
      "Step 0 - Loss: 0.007071\n",
      "Step 200 - Loss: 0.000002\n",
      "Step 400 - Loss: 0.000005\n",
      "Epoch 56\n",
      "Step 0 - Loss: 0.003987\n",
      "Step 200 - Loss: 0.000000\n",
      "Step 400 - Loss: 0.000004\n",
      "Epoch 57\n",
      "Step 0 - Loss: 0.006748\n",
      "Step 200 - Loss: 0.000002\n",
      "Step 400 - Loss: 0.000006\n",
      "Epoch 58\n",
      "Step 0 - Loss: 0.004699\n",
      "Step 200 - Loss: 0.000000\n",
      "Step 400 - Loss: 0.000002\n",
      "Epoch 59\n",
      "Step 0 - Loss: 0.008006\n",
      "Step 200 - Loss: 0.000002\n",
      "Step 400 - Loss: 0.000004\n",
      "Epoch 60\n",
      "Step 0 - Loss: 0.004436\n",
      "Step 200 - Loss: 0.000000\n",
      "Step 400 - Loss: 0.000003\n",
      "Epoch 61\n",
      "Step 0 - Loss: 0.007562\n",
      "Step 200 - Loss: 0.000002\n",
      "Step 400 - Loss: 0.000005\n",
      "Epoch 62\n",
      "Step 0 - Loss: 0.004455\n",
      "Step 200 - Loss: 0.000000\n",
      "Step 400 - Loss: 0.000004\n",
      "Epoch 63\n",
      "Step 0 - Loss: 0.006111\n",
      "Step 200 - Loss: 0.000001\n",
      "Step 400 - Loss: 0.000003\n",
      "Epoch 64\n",
      "Step 0 - Loss: 0.005820\n",
      "Step 200 - Loss: 0.000000\n",
      "Step 400 - Loss: 0.000002\n",
      "Epoch 65\n",
      "Step 0 - Loss: 0.006302\n",
      "Step 200 - Loss: 0.000001\n",
      "Step 400 - Loss: 0.000004\n",
      "Epoch 66\n",
      "Step 0 - Loss: 0.005750\n",
      "Step 200 - Loss: 0.000001\n",
      "Step 400 - Loss: 0.000001\n",
      "Epoch 67\n",
      "Step 0 - Loss: 0.007624\n",
      "Step 200 - Loss: 0.000001\n",
      "Step 400 - Loss: 0.000003\n",
      "Epoch 68\n",
      "Step 0 - Loss: 0.004896\n",
      "Step 200 - Loss: 0.000000\n",
      "Step 400 - Loss: 0.000003\n",
      "Epoch 69\n",
      "Step 0 - Loss: 0.007273\n",
      "Step 200 - Loss: 0.000001\n",
      "Step 400 - Loss: 0.000003\n",
      "Epoch 70\n",
      "Step 0 - Loss: 0.004964\n",
      "Step 200 - Loss: 0.000000\n",
      "Step 400 - Loss: 0.000002\n",
      "Epoch 71\n",
      "Step 0 - Loss: 0.007698\n",
      "Step 200 - Loss: 0.000000\n",
      "Step 400 - Loss: 0.000002\n",
      "Epoch 72\n",
      "Step 0 - Loss: 0.005895\n",
      "Step 200 - Loss: 0.000000\n",
      "Step 400 - Loss: 0.000001\n",
      "Epoch 73\n",
      "Step 0 - Loss: 0.007287\n",
      "Step 200 - Loss: 0.000001\n",
      "Step 400 - Loss: 0.000003\n",
      "Epoch 74\n",
      "Step 0 - Loss: 0.005377\n",
      "Step 200 - Loss: 0.000001\n",
      "Step 400 - Loss: 0.000002\n",
      "Epoch 75\n",
      "Step 0 - Loss: 0.007584\n",
      "Step 200 - Loss: 0.000000\n",
      "Step 400 - Loss: 0.000003\n",
      "Epoch 76\n",
      "Step 0 - Loss: 0.005176\n",
      "Step 200 - Loss: 0.000000\n",
      "Step 400 - Loss: 0.000002\n",
      "Epoch 77\n",
      "Step 0 - Loss: 0.007682\n",
      "Step 200 - Loss: 0.000000\n",
      "Step 400 - Loss: 0.000003\n",
      "Epoch 78\n",
      "Step 0 - Loss: 0.005499\n",
      "Step 200 - Loss: 0.000000\n",
      "Step 400 - Loss: 0.000001\n",
      "Epoch 79\n",
      "Step 0 - Loss: 0.007857\n",
      "Step 200 - Loss: 0.000000\n",
      "Step 400 - Loss: 0.000002\n",
      "Epoch 80\n",
      "Step 0 - Loss: 0.005809\n",
      "Step 200 - Loss: 0.000001\n",
      "Step 400 - Loss: 0.000001\n",
      "Epoch 81\n",
      "Step 0 - Loss: 0.007496\n",
      "Step 200 - Loss: 0.000000\n",
      "Step 400 - Loss: 0.000001\n",
      "Epoch 82\n",
      "Step 0 - Loss: 0.004468\n",
      "Step 200 - Loss: 0.000000\n",
      "Step 400 - Loss: 0.000002\n",
      "Epoch 83\n",
      "Step 0 - Loss: 0.008349\n",
      "Step 200 - Loss: 0.000000\n",
      "Step 400 - Loss: 0.000002\n",
      "Epoch 84\n",
      "Step 0 - Loss: 0.004974\n",
      "Step 200 - Loss: 0.000000\n",
      "Step 400 - Loss: 0.000001\n",
      "Epoch 85\n",
      "Step 0 - Loss: 0.008024\n",
      "Step 200 - Loss: 0.000000\n",
      "Step 400 - Loss: 0.000001\n",
      "Epoch 86\n",
      "Step 0 - Loss: 0.006078\n",
      "Step 200 - Loss: 0.000000\n",
      "Step 400 - Loss: 0.000001\n",
      "Epoch 87\n",
      "Step 0 - Loss: 0.008334\n",
      "Step 200 - Loss: 0.000000\n",
      "Step 400 - Loss: 0.000001\n",
      "Epoch 88\n",
      "Step 0 - Loss: 0.006735\n",
      "Step 200 - Loss: 0.000000\n",
      "Step 400 - Loss: 0.000000\n",
      "Epoch 89\n",
      "Step 0 - Loss: 0.007752\n",
      "Step 200 - Loss: 0.000000\n",
      "Step 400 - Loss: 0.000001\n",
      "Epoch 90\n",
      "Step 0 - Loss: 0.005946\n",
      "Step 200 - Loss: 0.000000\n",
      "Step 400 - Loss: 0.000001\n",
      "Epoch 91\n",
      "Step 0 - Loss: 0.007022\n",
      "Step 200 - Loss: 0.000000\n",
      "Step 400 - Loss: 0.000002\n",
      "Epoch 92\n",
      "Step 0 - Loss: 0.006043\n",
      "Step 200 - Loss: 0.000001\n",
      "Step 400 - Loss: 0.000001\n",
      "Epoch 93\n",
      "Step 0 - Loss: 0.008269\n",
      "Step 200 - Loss: 0.000000\n",
      "Step 400 - Loss: 0.000001\n",
      "Epoch 94\n",
      "Step 0 - Loss: 0.005788\n",
      "Step 200 - Loss: 0.000000\n",
      "Step 400 - Loss: 0.000001\n",
      "Epoch 95\n",
      "Step 0 - Loss: 0.007878\n",
      "Step 200 - Loss: 0.000000\n",
      "Step 400 - Loss: 0.000002\n",
      "Epoch 96\n",
      "Step 0 - Loss: 0.005120\n",
      "Step 200 - Loss: 0.000000\n"
     ]
    },
    {
     "name": "stdout",
     "output_type": "stream",
     "text": [
      "Step 400 - Loss: 0.000001\n",
      "Epoch 97\n",
      "Step 0 - Loss: 0.008475\n",
      "Step 200 - Loss: 0.000001\n",
      "Step 400 - Loss: 0.000001\n",
      "Epoch 98\n",
      "Step 0 - Loss: 0.006849\n",
      "Step 200 - Loss: 0.000000\n",
      "Step 400 - Loss: 0.000001\n",
      "Epoch 99\n",
      "Step 0 - Loss: 0.008717\n",
      "Step 200 - Loss: 0.000000\n",
      "Step 400 - Loss: 0.000000\n"
     ]
    }
   ],
   "source": [
    "loss_list = []\n",
    "test_pred_list = []\n",
    "\n",
    "with tf.Session() as sess:\n",
    "    \n",
    "    tf.global_variables_initializer().run()\n",
    "    \n",
    "    for epoch_idx in range(num_epochs):\n",
    "                \n",
    "        print('Epoch %d' %epoch_idx)\n",
    "        \n",
    "        for batch_idx in range(num_batches):\n",
    "            start_idx = batch_idx * truncated_backprop_length\n",
    "            end_idx = start_idx + truncated_backprop_length * batch_size\n",
    "        \n",
    "            \n",
    "            batchX = xTrain[start_idx:end_idx,:].reshape(batch_size,truncated_backprop_length,num_features)\n",
    "            batchY = yTrain[start_idx:end_idx].reshape(batch_size,truncated_backprop_length,1)\n",
    "                \n",
    "            #print('IDXs',start_idx,end_idx)\n",
    "            #print('X',batchX.shape,batchX)\n",
    "            #print('Y',batchX.shape,batchY)\n",
    "            \n",
    "            feed = {batchX_placeholder : batchX, batchY_placeholder : batchY}\n",
    "            \n",
    "            #TRAIN!\n",
    "            _loss,_train_step,_pred,_last_label,_prediction = sess.run(\n",
    "                fetches=[loss,train_step,prediction,last_label,prediction],\n",
    "                feed_dict = feed\n",
    "            )\n",
    "            \n",
    "            loss_list.append(_loss)\n",
    "            \n",
    "           \n",
    "            \n",
    "            if(batch_idx % 200 == 0):\n",
    "                print('Step %d - Loss: %.6f' %(batch_idx,_loss))\n",
    "                \n",
    "    #TEST\n",
    "    \n",
    "    \n",
    "    for test_idx in range(len(xTest) - truncated_backprop_length):\n",
    "        \n",
    "        testBatchX = xTest[test_idx:test_idx+truncated_backprop_length,:].reshape((1,truncated_backprop_length,num_features))        \n",
    "        testBatchY = yTest[test_idx:test_idx+truncated_backprop_length].reshape((1,truncated_backprop_length,1))\n",
    "\n",
    "        \n",
    "        #_current_state = np.zeros((batch_size,state_size))\n",
    "        feed = {batchX_placeholder : testBatchX,\n",
    "            batchY_placeholder : testBatchY}\n",
    "\n",
    "        #Test_pred contains 'window_size' predictions, we want the last one\n",
    "        _last_state,_last_label,test_pred = sess.run([last_state,last_label,prediction],feed_dict=feed)\n",
    "        test_pred_list.append(test_pred[-1][0]) #The last one"
   ]
  },
  {
   "cell_type": "code",
   "execution_count": 26,
   "metadata": {
    "scrolled": true
   },
   "outputs": [
    {
     "data": {
      "image/png": "[encoded data removed]",
      "text/plain": [
       "<matplotlib.figure.Figure at 0x152caf8afd0>"
      ]
     },
     "metadata": {},
     "output_type": "display_data"
    }
   ],
   "source": [
    "import matplotlib.pyplot as plt\n",
    "%matplotlib inline\n",
    "plt.title('Loss')\n",
    "plt.scatter(x=np.arange(0,len(loss_list)),y=loss_list)\n",
    "plt.xlabel('epochs')\n",
    "plt.ylabel('loss')\n",
    "plt.show();"
   ]
  },
  {
   "cell_type": "markdown",
   "metadata": {},
   "source": [
    "#### Denormalize"
   ]
  },
  {
   "cell_type": "code",
   "execution_count": 27,
   "metadata": {
    "collapsed": true
   },
   "outputs": [],
   "source": [
    "test_pred_list[:] = [(x*PriceRange)+PriceMean for x in test_pred_list]\n",
    "yTest[:] = [(x*PriceRange)+PriceMean for x in yTest]"
   ]
  },
  {
   "cell_type": "code",
   "execution_count": 28,
   "metadata": {},
   "outputs": [
    {
     "data": {
      "image/png": "[encoded data removed]",
      "text/plain": [
       "<matplotlib.figure.Figure at 0x152c7af36d8>"
      ]
     },
     "metadata": {},
     "output_type": "display_data"
    }
   ],
   "source": [
    "plt.figure(figsize=(21,7))\n",
    "plt.plot(yTest,label='Price',color='blue')\n",
    "plt.plot(test_pred_list,label='Predicted',color='red')\n",
    "plt.title('Price vs Predicted')\n",
    "plt.legend(loc='upper left')\n",
    "plt.show()"
   ]
  },
  {
   "cell_type": "code",
   "execution_count": 29,
   "metadata": {},
   "outputs": [
    {
     "data": {
      "text/plain": [
       "190"
      ]
     },
     "execution_count": 29,
     "metadata": {},
     "output_type": "execute_result"
    }
   ],
   "source": [
    "len(test_pred_list)"
   ]
  },
  {
   "cell_type": "code",
   "execution_count": 30,
   "metadata": {
    "collapsed": true
   },
   "outputs": [],
   "source": [
    "predict= pd.DataFrame(test_pred_list, columns=['Prediction'])"
   ]
  },
  {
   "cell_type": "code",
   "execution_count": 31,
   "metadata": {
    "collapsed": true
   },
   "outputs": [],
   "source": [
    "real = pd.DataFrame(yTest, columns=['Price'])"
   ]
  },
  {
   "cell_type": "code",
   "execution_count": 32,
   "metadata": {
    "collapsed": true
   },
   "outputs": [],
   "source": [
    "realVSpredict = predict.join(real)"
   ]
  },
  {
   "cell_type": "code",
   "execution_count": 33,
   "metadata": {},
   "outputs": [
    {
     "name": "stdout",
     "output_type": "stream",
     "text": [
      "      Prediction        Price\n",
      "0    4163.155181  4165.172362\n",
      "1    4163.187534  4165.172362\n",
      "2    4163.206428  4165.172362\n",
      "3    4161.099178  4165.172362\n",
      "4    4161.723397  4165.172362\n",
      "5    4160.715010  4165.172362\n",
      "6    4161.018405  4165.172362\n",
      "7    4161.045413  4162.655979\n",
      "8    4161.143176  4162.655979\n",
      "9    4155.951311  4162.655979\n",
      "10   4157.355237  4162.655979\n",
      "11   4154.898204  4162.655979\n",
      "12   4155.731346  4162.655979\n",
      "13   4155.840812  4156.829583\n",
      "14   4156.157985  4156.829583\n",
      "15   4156.282469  4156.829583\n",
      "16   4156.291629  4156.829583\n",
      "17   4151.376174  4156.829583\n",
      "18   4152.640927  4156.829583\n",
      "19   4150.393313  4156.829583\n",
      "20   4151.178484  4156.829583\n",
      "21   4151.289802  4151.525821\n",
      "22   4151.575273  4151.525821\n",
      "23   4151.688761  4151.525821\n",
      "24   4151.695277  4151.525821\n",
      "25   4151.698948  4151.525821\n",
      "26   4151.666394  4151.525821\n",
      "27   4151.666394  4151.525821\n",
      "28   4151.666394  4151.525821\n",
      "29   4151.666394  4151.525821\n",
      "30   4151.666394  4151.525821\n",
      "31   4151.666394  4151.525821\n",
      "32   4151.666394  4151.525821\n",
      "33   4151.666394  4151.525821\n",
      "34   4151.666394  4151.525821\n",
      "35   4151.666394  4151.525821\n",
      "36   4151.666394  4151.525821\n",
      "37   4151.666394  4151.525821\n",
      "38   4151.666394  4151.525821\n",
      "39   4151.666394  4151.525821\n",
      "40   4151.666394  4151.525821\n",
      "41   4151.666394  4151.525821\n",
      "42   4151.666394  4151.525821\n",
      "43   4151.666394  4151.525821\n",
      "44   4151.666394  4151.525821\n",
      "45   4151.666394  4151.525821\n",
      "46   4151.666394  4151.525821\n",
      "47   4151.666394  4151.525821\n",
      "48   4151.666394  4151.525821\n",
      "49   4151.666394  4151.525821\n",
      "50   4151.666394  4151.525821\n",
      "51   4151.666394  4151.525821\n",
      "52   4151.666394  4151.525821\n",
      "53   4151.666394  4151.525821\n",
      "54   4151.666394  4151.525821\n",
      "55   4151.666394  4151.525821\n",
      "56   4151.666394  4151.525821\n",
      "57   4151.666394  4151.525821\n",
      "58   4151.666394  4151.525821\n",
      "59   4151.666394  4151.525821\n",
      "60   4151.666394  4151.525821\n",
      "61   4151.666394  4151.525821\n",
      "62   4151.666394  4151.525821\n",
      "63   4151.666394  4151.525821\n",
      "64   4151.666394  4151.525821\n",
      "65   4151.666394  4151.525821\n",
      "66   4151.666394  4151.525821\n",
      "67   4151.666394  4151.525821\n",
      "68   4151.666394  4151.525821\n",
      "69   4151.152886  4151.525821\n",
      "70   4151.291771  4151.525821\n",
      "71   4151.052883  4151.525821\n",
      "72   4151.135498  4151.525821\n",
      "73   4151.146076  4150.964474\n",
      "74   4151.175679  4150.964474\n",
      "75   4151.187602  4150.964474\n",
      "76   4151.188279  4150.964474\n",
      "77   4151.188865  4150.964474\n",
      "78   4151.185508  4150.964474\n",
      "79   4151.185508  4150.964474\n",
      "80   4151.185508  4150.964474\n",
      "81   4151.185508  4150.964474\n",
      "82   4151.185508  4150.964474\n",
      "83   4151.185508  4150.964474\n",
      "84   4151.185508  4150.964474\n",
      "85   4151.185508  4150.964474\n",
      "86   4150.639973  4150.964474\n",
      "87   4150.788598  4150.964474\n",
      "88   4150.534827  4150.964474\n",
      "89   4150.621581  4150.964474\n",
      "90   4150.632444  4150.364413\n",
      "91   4150.663106  4150.364413\n",
      "92   4150.675698  4150.364413\n",
      "93   4150.676459  4150.364413\n",
      "94   4150.677259  4150.364413\n",
      "95   4150.673836  4150.364413\n",
      "96   4150.673836  4150.364413\n",
      "97   4150.673836  4150.364413\n",
      "98   4149.854406  4150.364413\n",
      "99   4150.080302  4150.364413\n",
      "100  4149.699710  4150.364413\n",
      "101  4149.827353  4150.364413\n",
      "102  4149.842817  4149.454644\n",
      "103  4149.886797  4149.454644\n",
      "104  4149.905487  4149.454644\n",
      "105  4149.906710  4149.454644\n",
      "106  4149.908337  4149.454644\n",
      "107  4149.903575  4149.454644\n",
      "108  4149.903575  4149.454644\n",
      "109  4149.903575  4149.454644\n",
      "110  4151.880620  4149.454644\n",
      "111  4150.614768  4149.454644\n",
      "112  4150.329816  4149.454644\n",
      "113  4149.927413  4149.454644\n",
      "114  4150.129505  4149.251397\n",
      "115  4150.326503  4149.251397\n",
      "116  4150.223276  4149.251397\n",
      "117  4150.306197  4149.251397\n",
      "118  4150.294976  4149.251397\n",
      "119  4150.303532  4149.251397\n",
      "120  4148.137341  4149.251397\n",
      "121  4149.439610  4149.251397\n",
      "122  4149.643910  4149.251397\n",
      "123  4150.068596  4149.251397\n",
      "124  4149.872778  4149.222362\n",
      "125  4149.680498  4149.222362\n",
      "126  4149.789539  4149.222362\n",
      "127  4149.704819  4149.222362\n",
      "128  4149.718466  4149.222362\n",
      "129  4149.708106  4149.222362\n",
      "130  4149.708106  4149.222362\n",
      "131  4149.708106  4149.222362\n",
      "132  4149.708106  4149.222362\n",
      "133  4149.708106  4149.222362\n",
      "134  4149.708106  4149.222362\n",
      "135  4149.708106  4149.222362\n",
      "136  4149.708106  4149.222362\n",
      "137  4149.708106  4149.222362\n",
      "138  4149.708106  4149.222362\n",
      "139  4149.708106  4149.222362\n",
      "140  4149.708106  4149.222362\n",
      "141  4149.708106  4149.222362\n",
      "142  4149.708106  4149.222362\n",
      "143  4149.708106  4149.222362\n",
      "144  4149.708106  4149.222362\n",
      "145  4149.708106  4149.222362\n",
      "146  4149.708106  4149.222362\n",
      "147  4149.708106  4149.222362\n",
      "148  4149.708106  4149.222362\n",
      "149  4149.708106  4149.222362\n",
      "150  4149.708106  4149.222362\n",
      "151  4149.708106  4149.222362\n",
      "152  4149.708106  4149.222362\n",
      "153  4149.708106  4149.222362\n",
      "154  4149.708106  4149.222362\n",
      "155  4149.708106  4149.222362\n",
      "156  4149.708106  4149.222362\n",
      "157  4149.708106  4149.222362\n",
      "158  4149.708106  4149.222362\n",
      "159  4149.708106  4149.222362\n",
      "160  4149.708106  4149.222362\n",
      "161  4149.708106  4149.222362\n",
      "162  4149.708106  4149.222362\n",
      "163  4149.708106  4149.222362\n",
      "164  4149.708106  4149.222362\n",
      "165  4149.708106  4149.222362\n",
      "166  4149.708106  4149.222362\n",
      "167  4149.708106  4149.222362\n",
      "168  4149.708106  4149.222362\n",
      "169  4149.708106  4149.222362\n",
      "170  4149.708106  4149.222362\n",
      "171  4149.708106  4149.222362\n",
      "172  4149.708106  4149.222362\n",
      "173  4149.708106  4149.222362\n",
      "174  4149.708106  4149.222362\n",
      "175  4149.708106  4149.222362\n",
      "176  4149.708106  4149.222362\n",
      "177  4149.708106  4149.222362\n",
      "178  4149.708106  4149.222362\n",
      "179  4149.708106  4149.222362\n",
      "180  4149.708106  4149.222362\n",
      "181  4149.708106  4149.222362\n",
      "182  4149.708106  4149.222362\n",
      "183  4149.708106  4149.222362\n",
      "184  4149.708106  4149.222362\n",
      "185  4149.708106  4149.222362\n",
      "186  4149.708106  4149.222362\n",
      "187  4149.708106  4149.222362\n",
      "188  4149.708106  4149.222362\n",
      "189  4149.708106  4149.222362\n"
     ]
    }
   ],
   "source": [
    "with pd.option_context('display.max_rows', None, 'display.max_columns', 3):\n",
    "    print(realVSpredict)"
   ]
  },
  {
   "cell_type": "raw",
   "metadata": {},
   "source": []
  }
 ],
 "metadata": {
  "kernelspec": {
   "display_name": "Python 3",
   "language": "python",
   "name": "python3"
  },
  "language_info": {
   "codemirror_mode": {
    "name": "ipython",
    "version": 3
   },
   "file_extension": ".py",
   "mimetype": "text/x-python",
   "name": "python",
   "nbconvert_exporter": "python",
   "pygments_lexer": "ipython3",
   "version": "3.6.1"
  }
 },
 "nbformat": 4,
 "nbformat_minor": 2
}
